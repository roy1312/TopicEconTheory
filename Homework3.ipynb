{
 "metadata": {
  "name": "",
  "signature": "sha256:9c5b0ce161e71239490e2f3e7ffae3211afbb8b3a31fcaac87b6cca2562b9e72"
 },
 "nbformat": 3,
 "nbformat_minor": 0,
 "worksheets": [
  {
   "cells": [
    {
     "cell_type": "code",
     "collapsed": false,
     "input": [
      "import numpy as np\n",
      "import quantecon as qe"
     ],
     "language": "python",
     "metadata": {},
     "outputs": [],
     "prompt_number": 1
    },
    {
     "cell_type": "heading",
     "level": 1,
     "metadata": {},
     "source": [
      "Excercise 4.2.3"
     ]
    },
    {
     "cell_type": "code",
     "collapsed": false,
     "input": [
      "#create Hamiltion's Markov chain\n",
      "P1 = np.array([0.971, 0.029, 0.000])\n",
      "P2 = np.array([0.145, 0.778, 0.077])\n",
      "P3 = np.array([0.000, 0.508, 0.492])\n",
      "\n",
      "P = np.vstack((P1, P2, P3))\n",
      "print P"
     ],
     "language": "python",
     "metadata": {},
     "outputs": [
      {
       "output_type": "stream",
       "stream": "stdout",
       "text": [
        "[[ 0.971  0.029  0.   ]\n",
        " [ 0.145  0.778  0.077]\n",
        " [ 0.     0.508  0.492]]\n"
       ]
      }
     ],
     "prompt_number": 2
    },
    {
     "cell_type": "code",
     "collapsed": false,
     "input": [
      "#create a new Markovchain instance \n",
      "mc0 = qe.MarkovChain(P)\n",
      "\n",
      "#define a function calcualting marginal distribution\n",
      "def marginal(t, init, n = 500):   \n",
      "    x = []\n",
      "    for i in range(0, n):\n",
      "        #Implement simulation\n",
      "        \n",
      "        sim = mc0.simulate(init, sample_size=t)\n",
      "        #count the number of different states\n",
      "        x.append(sim[t - 1])\n",
      "        #calculate marginal probability of 3 states\n",
      "    marginal_p0 = float(x.count(0))/float(len(x))\n",
      "    marginal_p1 = float(x.count(1))/float(len(x))\n",
      "    marginal_p2 = float(x.count(2))/float(len(x))\n",
      "    marginal_p = [marginal_p0, marginal_p1, marginal_p2]\n",
      "    return marginal_p\n",
      "\n",
      "mar10_p = marginal(10, [0, 0, 1])\n",
      "print mar10_p[0]"
     ],
     "language": "python",
     "metadata": {},
     "outputs": [
      {
       "output_type": "stream",
       "stream": "stdout",
       "text": [
        "0.548\n"
       ]
      }
     ],
     "prompt_number": 3
    },
    {
     "cell_type": "heading",
     "level": 1,
     "metadata": {},
     "source": [
      "Excercise 4.2.12"
     ]
    },
    {
     "cell_type": "code",
     "collapsed": false,
     "input": [
      "expect_profit = []\n",
      "\n",
      "for init in [[1, 0, 0], [0, 0, 1]]:\n",
      "\n",
      "    #calculate marginal distribution\n",
      "    mar5_p = marginal(5, init)\n",
      "\n",
      "    #calculate expected profit\n",
      "    profit = [1000, 0 , -1000]\n",
      "    expect_profit.append(np.dot(mar5_p, profit)) \n",
      "    \n",
      "difference = expect_profit[0] - expect_profit[1]    \n",
      "print expect_profit\n",
      "print difference"
     ],
     "language": "python",
     "metadata": {},
     "outputs": [
      {
       "output_type": "stream",
       "stream": "stdout",
       "text": [
        "[900.0, 110.0]\n",
        "790.0\n"
       ]
      }
     ],
     "prompt_number": 4
    },
    {
     "cell_type": "heading",
     "level": 1,
     "metadata": {},
     "source": [
      "Excercise 4.2.13"
     ]
    },
    {
     "cell_type": "code",
     "collapsed": false,
     "input": [
      "expect_profit = []\n",
      "\n",
      "for init in [[1, 0, 0], [0, 1, 0], [0, 0, 1]]:\n",
      "\n",
      "    #calculate marginal distribution\n",
      "    mar5_p = marginal(1000, init)\n",
      "\n",
      "    #calculate expected profit\n",
      "    profit = [1000, 0 , -1000]\n",
      "    expect_profit.append(np.dot(mar5_p, profit)) \n",
      "        \n",
      "print expect_profit"
     ],
     "language": "python",
     "metadata": {},
     "outputs": [
      {
       "output_type": "stream",
       "stream": "stdout",
       "text": [
        "[770.0, 758.0, 800.0]\n"
       ]
      }
     ],
     "prompt_number": 5
    },
    {
     "cell_type": "markdown",
     "metadata": {},
     "source": [
      "It seems that the difference of expected profit disappears"
     ]
    },
    {
     "cell_type": "heading",
     "level": 1,
     "metadata": {},
     "source": [
      "Excercise 4.2.14"
     ]
    },
    {
     "cell_type": "code",
     "collapsed": false,
     "input": [
      "expect_profit = []\n",
      "phi = [0.2, 0.2, 0.6]\n",
      "profit = [1000, 0 , -1000]\n",
      "for init in [phi]:\n",
      "\n",
      "    #calculate marginal distribution\n",
      "    mar5_p = marginal(5, init)\n",
      "\n",
      "    #calculate expected profit\n",
      "    \n",
      "    expect_profit.append(np.dot(mar5_p, profit)) \n",
      "       \n",
      "print expect_profit"
     ],
     "language": "python",
     "metadata": {},
     "outputs": [
      {
       "output_type": "stream",
       "stream": "stdout",
       "text": [
        "[300.0]\n"
       ]
      }
     ],
     "prompt_number": 6
    },
    {
     "cell_type": "heading",
     "level": 1,
     "metadata": {},
     "source": [
      "Excercise 4.2.15"
     ]
    },
    {
     "cell_type": "code",
     "collapsed": false,
     "input": [
      "prob_NG_MR_NG = phi[0] * P[0,1] * P[1,0]\n",
      "print prob_NG_MR_NG"
     ],
     "language": "python",
     "metadata": {},
     "outputs": [
      {
       "output_type": "stream",
       "stream": "stdout",
       "text": [
        "0.000841\n"
       ]
      }
     ],
     "prompt_number": 7
    },
    {
     "cell_type": "heading",
     "level": 1,
     "metadata": {},
     "source": [
      "Excercise 4.2.16"
     ]
    },
    {
     "cell_type": "code",
     "collapsed": false,
     "input": [
      "X = [] #initial value to define the function \n",
      "def path_prob2(p, psi, X, t = len(X)):\n",
      "    #print t \n",
      "    if t == 1 :\n",
      "        return psi[X[0]]       \n",
      "\n",
      "    return path_prob2(p, psi, X, t-1) * p[X[t - 2], X[t - 1]]\n",
      "  \n",
      "test = path_prob2(P, [0.2, 0.2, 0.6], [0, 1, 0], len([0,1,0]))\n",
      "print test"
     ],
     "language": "python",
     "metadata": {},
     "outputs": [
      {
       "output_type": "stream",
       "stream": "stdout",
       "text": [
        "0.000841\n"
       ]
      }
     ],
     "prompt_number": 8
    },
    {
     "cell_type": "heading",
     "level": 1,
     "metadata": {},
     "source": [
      "Excercise 4.2.18"
     ]
    },
    {
     "cell_type": "code",
     "collapsed": false,
     "input": [
      "#create list of all possible paths\n",
      "allpaths = []\n",
      "for each in [[0], [1], [2]]:\n",
      "    for each1 in [[0], [1], [2]]:\n",
      "        for each2 in [[0], [1], [2]]:\n",
      "            allpaths.append(each + each1 + each2)\n",
      "            \n",
      "print allpaths"
     ],
     "language": "python",
     "metadata": {},
     "outputs": [
      {
       "output_type": "stream",
       "stream": "stdout",
       "text": [
        "[[0, 0, 0], [0, 0, 1], [0, 0, 2], [0, 1, 0], [0, 1, 1], [0, 1, 2], [0, 2, 0], [0, 2, 1], [0, 2, 2], [1, 0, 0], [1, 0, 1], [1, 0, 2], [1, 1, 0], [1, 1, 1], [1, 1, 2], [1, 2, 0], [1, 2, 1], [1, 2, 2], [2, 0, 0], [2, 0, 1], [2, 0, 2], [2, 1, 0], [2, 1, 1], [2, 1, 2], [2, 2, 0], [2, 2, 1], [2, 2, 2]]\n"
       ]
      }
     ],
     "prompt_number": 9
    },
    {
     "cell_type": "code",
     "collapsed": false,
     "input": [
      "allprob = []\n",
      "for each in allpaths:\n",
      "    if 0 not in each:\n",
      "        prob = path_prob2(P, phi, each, len(each))\n",
      "        allprob.append(prob)\n",
      "print allprob\n",
      "print sum(i for i in allprob)"
     ],
     "language": "python",
     "metadata": {},
     "outputs": [
      {
       "output_type": "stream",
       "stream": "stdout",
       "text": [
        "[0.12105680000000002, 0.011981200000000001, 0.0078232000000000006, 0.0075767999999999999, 0.23713440000000002, 0.0234696, 0.14996159999999997, 0.14523839999999999]\n",
        "0.704242\n"
       ]
      }
     ],
     "prompt_number": 10
    },
    {
     "cell_type": "heading",
     "level": 1,
     "metadata": {},
     "source": [
      "Excercise 4.2.19"
     ]
    },
    {
     "cell_type": "code",
     "collapsed": false,
     "input": [
      "sim_paths = []\n",
      "sim_recpaths = []\n",
      "for i in range(0, 10000):\n",
      "    singlepath = mc0.simulate(init, sample_size=3)\n",
      "    sim_paths.append(singlepath)\n",
      "    if 0 not in singlepath:\n",
      "        sim_recpaths.append(singlepath)\n",
      "        \n",
      "print float(len(sim_recpaths))/float(len(sim_paths))"
     ],
     "language": "python",
     "metadata": {},
     "outputs": [
      {
       "output_type": "stream",
       "stream": "stdout",
       "text": [
        "0.7025\n"
       ]
      }
     ],
     "prompt_number": 11
    },
    {
     "cell_type": "heading",
     "level": 1,
     "metadata": {},
     "source": [
      "Excercise 4.2.20"
     ]
    },
    {
     "cell_type": "code",
     "collapsed": false,
     "input": [
      "#create list of all possible paths when T = 2\n",
      "allpaths2 = []\n",
      "for each in [[0], [1], [2]]:\n",
      "    for each1 in [[0], [1], [2]]:    \n",
      "         allpaths2.append(each + each1)\n",
      "            \n",
      "print allpaths2"
     ],
     "language": "python",
     "metadata": {},
     "outputs": [
      {
       "output_type": "stream",
       "stream": "stdout",
       "text": [
        "[[0, 0], [0, 1], [0, 2], [1, 0], [1, 1], [1, 2], [2, 0], [2, 1], [2, 2]]\n"
       ]
      }
     ],
     "prompt_number": 12
    },
    {
     "cell_type": "code",
     "collapsed": false,
     "input": [
      "allexpectprofit =[]\n",
      "r = 0.05\n",
      "for each in allpaths:\n",
      "    prob = path_prob2(P, phi, each, len(each))\n",
      "    expectprofit = prob * (profit[each[0]] + profit[each[1]]/(1 + r) + profit[each[2]]/ (1 + r) ** 2)\n",
      "    allexpectprofit.append(expectprofit)\n",
      "\n",
      "print allexpectprofit\n",
      "print sum(allexpectprofit)"
     ],
     "language": "python",
     "metadata": {},
     "outputs": [
      {
       "output_type": "stream",
       "stream": "stdout",
       "text": [
        "[539.19387800453524, 10.995419047619048, 0.0, 1.6038117913832202, 4.5124000000000004, 0.041520634920634923, 0.0, 0.0, -0.0, 52.359138321995452, 0.80095238095238086, 0.0, 20.464399092970524, 0.0, -10.867301587301588, -0.0, -7.4506666666666668, -14.088380952380952, 0.0, -0.0, -0.0, -4.1089251700680274, -237.13440000000003, -44.757219047619046, -0.0, -292.78217142857136, -415.29619591836735]\n",
        "-396.513741497\n"
       ]
      }
     ],
     "prompt_number": 13
    },
    {
     "cell_type": "heading",
     "level": 1,
     "metadata": {},
     "source": [
      "Excercise 4.2.22"
     ]
    },
    {
     "cell_type": "code",
     "collapsed": false,
     "input": [
      "sim_allexpectprofit =[]\n",
      "#Use the simulation paths generated previously\n",
      "for each in sim_paths:\n",
      "    expectprofit2 = profit[each[0]] + profit[each[1]]/(1 + r) + profit[each[2]]/ (1 + r) ** 2\n",
      "    sim_allexpectprofit.append(expectprofit2)\n",
      "\n",
      "print sum(sim_allexpectprofit)/float(len(sim_allexpectprofit))"
     ],
     "language": "python",
     "metadata": {},
     "outputs": [
      {
       "output_type": "stream",
       "stream": "stdout",
       "text": [
        "-388.732426304\n"
       ]
      }
     ],
     "prompt_number": 14
    },
    {
     "cell_type": "heading",
     "level": 1,
     "metadata": {},
     "source": [
      "Excercise 4.2.23"
     ]
    },
    {
     "cell_type": "code",
     "collapsed": false,
     "input": [
      "expectprofit_period = []\n",
      "\n",
      "for T in [0, 1, 2]:\n",
      "    expectprofit3 = (1/(1+r))**T * np.dot(np.dot(phi, np.linalg.matrix_power(P, T)),profit)\n",
      "    expectprofit_period.append(expectprofit3)\n",
      "    \n",
      "print sum(expectprofit_period)"
     ],
     "language": "python",
     "metadata": {},
     "outputs": [
      {
       "output_type": "stream",
       "stream": "stdout",
       "text": [
        "-396.513741497\n"
       ]
      }
     ],
     "prompt_number": 15
    },
    {
     "cell_type": "code",
     "collapsed": false,
     "input": [
      "X_axis = []\n",
      "Y_axis = []\n",
      "expectprofit3 = 0 #initial value to start loop\n",
      "\n",
      "for T in range(0, 10):\n",
      "    X_axis.append(T)\n",
      "    expectprofit3 += (1/(1+r))**T * np.dot(np.dot(phi, np.linalg.matrix_power(P, T)),profit)\n",
      "    Y_axis.append(expectprofit3)\n",
      "    \n",
      "print X_axis\n",
      "print Y_axis"
     ],
     "language": "python",
     "metadata": {},
     "outputs": [
      {
       "output_type": "stream",
       "stream": "stdout",
       "text": [
        "[0, 1, 2, 3, 4, 5, 6, 7, 8, 9]\n",
        "[-400.0, -483.23809523809518, -396.51374149659864, -207.27499613432678, 49.064212838559854, 351.07585498972935, 684.21957362592661, 1037.8823720230766, 1404.0152073013005, 1776.4123055852358]\n"
       ]
      }
     ],
     "prompt_number": 16
    },
    {
     "cell_type": "code",
     "collapsed": false,
     "input": [
      "%matplotlib inline\n",
      "import matplotlib.pyplot as plt"
     ],
     "language": "python",
     "metadata": {},
     "outputs": [],
     "prompt_number": 17
    },
    {
     "cell_type": "code",
     "collapsed": false,
     "input": [
      "plt.plot(X_axis, Y_axis)\n",
      "plt.plot(X_axis, [0]*10)\n",
      "plt.show()"
     ],
     "language": "python",
     "metadata": {},
     "outputs": [
      {
       "metadata": {},
       "output_type": "display_data",
       "png": "[encoded data removed]",
       "text": [
        "<matplotlib.figure.Figure at 0x1835a358>"
       ]
      }
     ],
     "prompt_number": 18
    },
    {
     "cell_type": "heading",
     "level": 1,
     "metadata": {},
     "source": [
      "Exercise 4.3.9"
     ]
    },
    {
     "cell_type": "code",
     "collapsed": false,
     "input": [
      "stationary = mc0.stationary_distributions\n",
      "print stationary"
     ],
     "language": "python",
     "metadata": {},
     "outputs": [
      {
       "output_type": "stream",
       "stream": "stdout",
       "text": [
        "[[ 0.8128   0.16256  0.02464]]\n"
       ]
      }
     ],
     "prompt_number": 19
    },
    {
     "cell_type": "code",
     "collapsed": false,
     "input": [
      "stationary_profit = np.dot(stationary[0], profit)\n",
      "\n",
      "print stationary_profit"
     ],
     "language": "python",
     "metadata": {},
     "outputs": [
      {
       "output_type": "stream",
       "stream": "stdout",
       "text": [
        "788.16\n"
       ]
      }
     ],
     "prompt_number": 20
    },
    {
     "cell_type": "markdown",
     "metadata": {},
     "source": [
      "It is close to the result in 4.2.13"
     ]
    },
    {
     "cell_type": "heading",
     "level": 2,
     "metadata": {},
     "source": [
      "Excercise 4.3.10"
     ]
    },
    {
     "cell_type": "code",
     "collapsed": false,
     "input": [
      "phi_20 = marginal(20, stationary[0])\n",
      "print phi_20"
     ],
     "language": "python",
     "metadata": {},
     "outputs": [
      {
       "output_type": "stream",
       "stream": "stdout",
       "text": [
        "[0.828, 0.152, 0.02]\n"
       ]
      }
     ],
     "prompt_number": 21
    },
    {
     "cell_type": "heading",
     "level": 1,
     "metadata": {},
     "source": [
      "Excercise 4.3.27"
     ]
    },
    {
     "cell_type": "code",
     "collapsed": false,
     "input": [
      "#let x=0, test the minimum time the state returns to x\n",
      "t_list = []\n",
      "for i in range(0, 50000):\n",
      "    t = 0\n",
      "    state = np.random.choice(3, 1, p=P1)[0] #draw random number from P1\n",
      "    if state == 0:\n",
      "        t = t + 1\n",
      "    else:\n",
      "        while state != 0:\n",
      "            if state == 1:\n",
      "                state = np.random.choice(3, 1, p=P2)[0] #draw random number from P2\n",
      "                t = t + 1\n",
      "            elif state == 2:\n",
      "                state = np.random.choice(3, 1, p=P3)[0] #draw random number from P3\n",
      "                t = t + 1\n",
      "       \n",
      "        \n",
      "    t_list.append(t)\n",
      "#print t_list\n",
      "tau = sum(t_list)/float(len(t_list))\n",
      "print tau\n",
      "print 1/stationary[0][0]"
     ],
     "language": "python",
     "metadata": {},
     "outputs": [
      {
       "output_type": "stream",
       "stream": "stdout",
       "text": [
        "1.18838\n",
        "1.23031496063\n"
       ]
      }
     ],
     "prompt_number": 22
    },
    {
     "cell_type": "heading",
     "level": 1,
     "metadata": {},
     "source": [
      "Excercise 4.3.34"
     ]
    },
    {
     "cell_type": "code",
     "collapsed": false,
     "input": [
      "sim_largenumber = mc0.simulate(init, sample_size=50000)\n",
      "h = 0\n",
      "for each in sim_largenumber:\n",
      "    if each == 0:\n",
      "        h = h + 1 \n",
      "        \n",
      "print float(h)/50000\n",
      "print stationary[0][0]"
     ],
     "language": "python",
     "metadata": {},
     "outputs": [
      {
       "output_type": "stream",
       "stream": "stdout",
       "text": [
        "0.81482\n",
        "0.8128\n"
       ]
      }
     ],
     "prompt_number": 23
    },
    {
     "cell_type": "heading",
     "level": 1,
     "metadata": {},
     "source": [
      "Excercise 4.3.36"
     ]
    },
    {
     "cell_type": "code",
     "collapsed": false,
     "input": [
      "sim_largenumber = mc0.simulate(init, sample_size=50000)\n",
      "expectprofit_largenumber = 0\n",
      "for each in sim_largenumber:\n",
      "    expectprofit_largenumber += profit[each]\n",
      "        \n",
      "print float(expectprofit_largenumber)/50000\n",
      "print stationary_profit"
     ],
     "language": "python",
     "metadata": {},
     "outputs": [
      {
       "output_type": "stream",
       "stream": "stdout",
       "text": [
        "789.58\n",
        "788.16\n"
       ]
      }
     ],
     "prompt_number": 24
    },
    {
     "cell_type": "code",
     "collapsed": false,
     "input": [],
     "language": "python",
     "metadata": {},
     "outputs": [],
     "prompt_number": 24
    },
    {
     "cell_type": "code",
     "collapsed": false,
     "input": [],
     "language": "python",
     "metadata": {},
     "outputs": []
    }
   ],
   "metadata": {}
  }
 ]
}