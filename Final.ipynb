{
 "metadata": {
  "name": "",
  "signature": "sha256:2f2d75f04aef3abe0b2d4293079ed85518d6c2dae00c2a0bf53bebfcc42450d4"
 },
 "nbformat": 3,
 "nbformat_minor": 0,
 "worksheets": [
  {
   "cells": [
    {
     "cell_type": "code",
     "collapsed": false,
     "input": [
      "import numpy as np\n",
      "from scipy import optimize\n",
      "from scipy.stats import nbinom\n",
      "import pandas as pd\n",
      "from scipy.interpolate import interp1d\n",
      "from scipy.integrate import quad\n",
      "%matplotlib inline\n",
      "import matplotlib.pyplot as plt"
     ],
     "language": "python",
     "metadata": {},
     "outputs": [],
     "prompt_number": 1
    },
    {
     "cell_type": "heading",
     "level": 1,
     "metadata": {},
     "source": [
      "Read data"
     ]
    },
    {
     "cell_type": "code",
     "collapsed": false,
     "input": [
      "url = 'D:\\Tokyo U\\computational econ\\duration_2.csv'\n",
      "data = pd.read_csv(url)\n",
      "data.head()"
     ],
     "language": "python",
     "metadata": {},
     "outputs": [
      {
       "html": [
        "<div style=\"max-height:1000px;max-width:1500px;overflow:auto;\">\n",
        "<table border=\"1\" class=\"dataframe\">\n",
        "  <thead>\n",
        "    <tr style=\"text-align: right;\">\n",
        "      <th></th>\n",
        "      <th>duration</th>\n",
        "    </tr>\n",
        "  </thead>\n",
        "  <tbody>\n",
        "    <tr>\n",
        "      <th>0</th>\n",
        "      <td> 1.670395</td>\n",
        "    </tr>\n",
        "    <tr>\n",
        "      <th>1</th>\n",
        "      <td> 2.695499</td>\n",
        "    </tr>\n",
        "    <tr>\n",
        "      <th>2</th>\n",
        "      <td> 0.190502</td>\n",
        "    </tr>\n",
        "    <tr>\n",
        "      <th>3</th>\n",
        "      <td> 0.649439</td>\n",
        "    </tr>\n",
        "    <tr>\n",
        "      <th>4</th>\n",
        "      <td> 1.704547</td>\n",
        "    </tr>\n",
        "  </tbody>\n",
        "</table>\n",
        "</div>"
       ],
       "metadata": {},
       "output_type": "pyout",
       "prompt_number": 2,
       "text": [
        "   duration\n",
        "0  1.670395\n",
        "1  2.695499\n",
        "2  0.190502\n",
        "3  0.649439\n",
        "4  1.704547"
       ]
      }
     ],
     "prompt_number": 2
    },
    {
     "cell_type": "code",
     "collapsed": false,
     "input": [
      "X = np.array(sorted(data['duration'][0:1000000]))"
     ],
     "language": "python",
     "metadata": {},
     "outputs": [],
     "prompt_number": 77
    },
    {
     "cell_type": "code",
     "collapsed": false,
     "input": [
      "#Plot the distribution of duration\n",
      "plt.hist(X)"
     ],
     "language": "python",
     "metadata": {},
     "outputs": [
      {
       "metadata": {},
       "output_type": "pyout",
       "prompt_number": 78,
       "text": [
        "(array([ 415941.,  291700.,  162351.,   72785.,   32004.,   14106.,\n",
        "           6174.,    2801.,    1176.,     962.]),\n",
        " array([  3.50600000e-07,   1.00010032e+00,   2.00020028e+00,\n",
        "          3.00030025e+00,   4.00040021e+00,   5.00050018e+00,\n",
        "          6.00060014e+00,   7.00070011e+00,   8.00080007e+00,\n",
        "          9.00090004e+00,   1.00010000e+01]),\n",
        " <a list of 10 Patch objects>)"
       ]
      },
      {
       "metadata": {},
       "output_type": "display_data",
       "png": "[encoded data removed]",
       "text": [
        "<matplotlib.figure.Figure at 0x21006b38>"
       ]
      }
     ],
     "prompt_number": 78
    },
    {
     "cell_type": "heading",
     "level": 1,
     "metadata": {},
     "source": [
      "Estimate parameters using MLE"
     ]
    },
    {
     "cell_type": "code",
     "collapsed": false,
     "input": [
      "#Define parameters and functions\n",
      "\n",
      "r = 0.05\n",
      "b = 1.0\n",
      "w = b/0.4\n",
      "h = 0.001\n",
      "t_space = np.arange(0,2,h) \n",
      "\n",
      "def u(c,sigma):\n",
      "    return - np.exp(-c*sigma)\n",
      "\n",
      "def up(c,sigma):\n",
      "    return sigma * np.exp(-c*sigma)\n",
      "\n",
      "def upp(c,sigma):\n",
      "    return - sigma **2 * np.exp(-c*sigma) \n",
      "\n",
      "def lam(s,alpha,l):\n",
      "    return alpha*s**l\n",
      "\n",
      "def lam_d(s,alpha,l):\n",
      "    return l*alpha*s**(l-1)\n",
      "\n",
      "def W(sigma):\n",
      "    return u(w,sigma)/r\n",
      "\n",
      "def V(s,sigma,alpha,l):\n",
      "    return (u(0,sigma) - s + lam(s,alpha,l) * W(sigma))/(r + lam(s,alpha,l))\n",
      "\n",
      "def foc(sigma,alpha,l):\n",
      "    def f(s):\n",
      "        return lam_d(s,alpha,l)*(W(sigma) - V(s,sigma,alpha,l)) - 1\n",
      "    return f\n",
      "\n",
      "def foc1(V,sigma,alpha,l):\n",
      "    def f(s):\n",
      "        return lam_d(s,alpha,l)*(W(sigma) - V) - 1\n",
      "    return f\n",
      "\n",
      "def vdot(s,x, b, sigma,alpha,l):\n",
      "    return r*x - u(b,sigma) + s - lam(s,alpha,l) * (W(sigma) - x)\n",
      "\n",
      "def cdot(s,x, b, sigma,alpha,l):\n",
      "    return - b + lam(s,alpha,l)*x + r*x\n",
      "\n",
      "def bdot(s,x, c, V,sigma,alpha,l):\n",
      "    return c/(alpha*(W(sigma)-V)**2) *(up(x,sigma))**2 / upp(x,sigma)"
     ],
     "language": "python",
     "metadata": {},
     "outputs": [],
     "prompt_number": 5
    },
    {
     "cell_type": "code",
     "collapsed": false,
     "input": [
      "#define the likelihood function\n",
      "def ll_f(X, sigma, alpha,l):\n",
      "    N = len(X)\n",
      "    ll = np.zeros((N), dtype = float)\n",
      "    Ht_dict = {}\n",
      "    \n",
      "    if sigma > 0 and alpha > 0 and 0< l <1: \n",
      "        \n",
      "        V0_vector = np.arange(0,2,h)\n",
      "        s0_vector = np.arange(0,2,h)\n",
      "\n",
      "        print (sigma, alpha,l)\n",
      "        s1 = optimize.brentq(foc(sigma,alpha,l), 1e-15, 10)\n",
      "        V1 = V(s1, sigma, alpha, l)\n",
      "\n",
      "        for i in reversed(range(len(t_space))):\n",
      "            z1 = vdot(s1,V1,b,sigma,alpha,l)\n",
      "\n",
      "            s0 = optimize.brentq(foc1(V1 - h*z1/2, sigma,alpha,l), 1e-15, 10)\n",
      "            z2 = vdot(s0,V1 - h*z1/2,b,sigma,alpha,l)\n",
      "\n",
      "            s0 = optimize.brentq(foc1(V1 - h*z2/2, sigma,alpha,l), 1e-15, 10)\n",
      "            z3 = vdot(s0,V1 - h*z2/2,b,sigma,alpha,l)\n",
      "\n",
      "            s0 = optimize.brentq(foc1(V1 - h*z3, sigma,alpha,l), 1e-15, 10)\n",
      "            z4 = vdot(s0,V1 - h*z3,b,sigma,alpha,l)\n",
      "\n",
      "            V1 = V1 - h/6 * (z1 + 2 *z2 + 2*z3 + z4)\n",
      "            \n",
      "            V0_vector[i] = V1\n",
      "            s0_vector[i] = optimize.brentq(foc1(V1, sigma,alpha,l), 1e-15, 10)\n",
      "\n",
      "        for i in range(len(t_space)):\n",
      "            s0_vector_short = s0_vector[0:i+1]\n",
      "            t_space_short = t_space[0:i+1]\n",
      "            ls0_fun_short = np.trapz(lam(s0_vector_short,alpha,l), t_space_short)\n",
      "            Ht = 1 -  np.exp(-ls0_fun_short)\n",
      "            Ht_dict[i] = Ht\n",
      "        \n",
      "        \n",
      "        ls0_fun_full = np.trapz(lam(s0_vector,alpha,l), t_space)\n",
      "        lam_s1 = lam(s1, alpha, l)\n",
      "        \n",
      "        \n",
      "        #print 'ready to generate likelihood function'\n",
      "\n",
      "        obs_short = X[X<=2]\n",
      "        pdf_short = np.zeros_like(obs_short)\n",
      "        cnt = 0\n",
      "        for t in obs_short:\n",
      "            index_short = np.argmin(abs(t_space - t))\n",
      "            if index_short <= 1998:\n",
      "                \n",
      "                if t_space[index_short] - t > 0:\n",
      "                    pdf_short[cnt] =  (1 - Ht_dict[index_short - 1]) * (Ht_dict[index_short] - Ht_dict[index_short - 1])\n",
      "                else:\n",
      "                    pdf_short[cnt] = (1 - Ht_dict[index_short]) * (Ht_dict[index_short + 1] - Ht_dict[index_short])\n",
      "            else:\n",
      "                pdf_short[cnt] =  (1 - Ht_dict[1998]) *  \\\n",
      "                (1 -  np.exp(-ls0_fun_full) - Ht_dict[1998])\n",
      "            cnt += 1 \n",
      "\n",
      "        obs_long = X[X>2]\n",
      "        pdf_long = (np.exp(-(ls0_fun_full+ (obs_long-2)*lam_s1))) * \\\n",
      "        ((1 - np.exp(-(ls0_fun_full+ (obs_long + h -2)*lam_s1))) - (1 - np.exp(-(ls0_fun_full+ (obs_long -2)*lam_s1))))\n",
      "\n",
      "        ll = np.log(np.append(pdf_short, pdf_long))\n",
      "\n",
      "        return ll\n",
      "    else:\n",
      "        return -np.inf + ll"
     ],
     "language": "python",
     "metadata": {},
     "outputs": [],
     "prompt_number": 27
    },
    {
     "cell_type": "code",
     "collapsed": false,
     "input": [
      "#implement the algorithm, optimization using nelder-mead method\n",
      "from statsmodels.base.model import GenericLikelihoodModel\n",
      "class NBin(GenericLikelihoodModel):\n",
      "     def __init__(self, endog, exog = None , **kwds):\n",
      "         if exog is None:\n",
      "            exog = np.zeros_like(endog)\n",
      "            \n",
      "         super(NBin, self).__init__(endog, exog, **kwds)\n",
      "     def nloglikeobs(self, params):\n",
      "         sigma = params[0]\n",
      "         alpha = params[1]\n",
      "         l = params[2]\n",
      "                \n",
      "         ll = ll_f(self.endog, sigma, alpha, l)\n",
      "         return -ll\n",
      "     def fit(self, start_params=None, maxiter=10000, maxfun=5000, **kwds):\n",
      "         if start_params == None:\n",
      "             # Reasonable starting values\n",
      "             start_params = [0.15,0.3,0.9]\n",
      "             \n",
      "         return super(NBin, self).fit(start_params=start_params,\n",
      "                                      maxiter=maxiter, maxfun=maxfun,\n",
      "                                      **kwds)\n"
     ],
     "language": "python",
     "metadata": {},
     "outputs": [],
     "prompt_number": 79
    },
    {
     "cell_type": "code",
     "collapsed": false,
     "input": [
      "mod = NBin(X)\n",
      "res = mod.fit()"
     ],
     "language": "python",
     "metadata": {},
     "outputs": [
      {
       "output_type": "stream",
       "stream": "stdout",
       "text": [
        "(0.14999999999999999, 0.29999999999999999, 0.90000000000000002)\n",
        "(0.1575, 0.29999999999999999, 0.90000000000000002)"
       ]
      },
      {
       "output_type": "stream",
       "stream": "stdout",
       "text": [
        "\n",
        "(0.14999999999999999, 0.315, 0.90000000000000002)"
       ]
      },
      {
       "output_type": "stream",
       "stream": "stdout",
       "text": [
        "\n",
        "(0.14999999999999999, 0.29999999999999999, 0.94500000000000006)"
       ]
      },
      {
       "output_type": "stream",
       "stream": "stdout",
       "text": [
        "\n",
        "(0.155, 0.31, 0.85499999999999998)"
       ]
      },
      {
       "output_type": "stream",
       "stream": "stdout",
       "text": [
        "\n",
        "(0.15125, 0.30249999999999999, 0.9225000000000001)"
       ]
      },
      {
       "output_type": "stream",
       "stream": "stdout",
       "text": [
        "\n",
        "(0.15583333333333335, 0.3116666666666667, 0.91500000000000015)"
       ]
      },
      {
       "output_type": "stream",
       "stream": "stdout",
       "text": [
        "\n",
        "(0.14722222222222228, 0.31944444444444448, 0.92500000000000016)"
       ]
      },
      {
       "output_type": "stream",
       "stream": "stdout",
       "text": [
        "\n",
        "(0.15493055555555557, 0.30486111111111114, 0.90625)"
       ]
      },
      {
       "output_type": "stream",
       "stream": "stdout",
       "text": [
        "\n",
        "(0.14828703703703702, 0.30324074074074076, 0.90416666666666667)"
       ]
      },
      {
       "output_type": "stream",
       "stream": "stdout",
       "text": [
        "\n",
        "(0.15394675925925927, 0.30956018518518524, 0.91229166666666672)"
       ]
      },
      {
       "output_type": "stream",
       "stream": "stdout",
       "text": [
        "\n",
        "(0.15675154320987658, 0.29628086419753091, 0.92736111111111119)"
       ]
      },
      {
       "output_type": "stream",
       "stream": "stdout",
       "text": [
        "\n",
        "(0.15168788580246914, 0.31032021604938276, 0.90684027777777776)"
       ]
      },
      {
       "output_type": "stream",
       "stream": "stdout",
       "text": [
        "\n",
        "(0.15579346707818936, 0.31399434156378614, 0.8944212962962963)"
       ]
      },
      {
       "output_type": "stream",
       "stream": "stdout",
       "text": [
        "\n",
        "(0.15238586676954735, 0.3053735853909465, 0.91548032407407409)"
       ]
      },
      {
       "output_type": "stream",
       "stream": "stdout",
       "text": [
        "\n",
        "(0.1504164523319616, 0.31197487997256523, 0.91682484567901246)"
       ]
      },
      {
       "output_type": "stream",
       "stream": "stdout",
       "text": [
        "\n",
        "(0.15380202974965707, 0.30663955332647463, 0.90889371141975306)"
       ]
      },
      {
       "output_type": "stream",
       "stream": "stdout",
       "text": [
        "\n",
        "(0.1550685513831733, 0.30406199988568816, 0.91760352366255127)"
       ]
      },
      {
       "output_type": "stream",
       "stream": "stdout",
       "text": [
        "\n",
        "(0.15253305219764518, 0.30875566200845911, 0.90953108924897119)"
       ]
      },
      {
       "output_type": "stream",
       "stream": "stdout",
       "text": [
        "\n",
        "(0.15186720655197378, 0.30428568196540151, 0.91031174982853225)"
       ]
      },
      {
       "output_type": "stream",
       "stream": "stdout",
       "text": [
        "\n",
        "(0.15342687108243791, 0.30824155938023934, 0.91179668745713305)"
       ]
      },
      {
       "output_type": "stream",
       "stream": "stdout",
       "text": [
        "\n",
        "(0.15176183028342988, 0.3082743178599554, 0.91564502243369916)"
       ]
      },
      {
       "output_type": "stream",
       "stream": "stdout",
       "text": [
        "\n",
        "(0.15329197988310028, 0.3070482444598448, 0.91058153917323958)"
       ]
      },
      {
       "output_type": "stream",
       "stream": "stdout",
       "text": [
        "\n",
        "(0.15378206867257488, 0.31065672517474907, 0.90579255317882179)"
       ]
      },
      {
       "output_type": "stream",
       "stream": "stdout",
       "text": [
        "\n",
        "(0.15273491724530425, 0.30669437033689717, 0.91305838135026107)"
       ]
      },
      {
       "output_type": "stream",
       "stream": "stdout",
       "text": [
        "\n",
        "(0.15376945994291646, 0.30590045410952843, 0.91409331607145128)"
       ]
      },
      {
       "output_type": "stream",
       "stream": "stdout",
       "text": [
        "\n",
        "(0.15284215413396302, 0.30804186003372647, 0.91067164595459116)"
       ]
      },
      {
       "output_type": "stream",
       "stream": "stdout",
       "text": [
        "\n",
        "(0.15363908615436322, 0.30886007224564327, 0.90897486703971464)"
       ]
      },
      {
       "output_type": "stream",
       "stream": "stdout",
       "text": [
        "\n",
        "(0.15409117060889271, 0.30994292320001637, 0.90693310988444154)"
       ]
      },
      {
       "output_type": "stream",
       "stream": "stdout",
       "text": [
        "\n",
        "(0.15308860903184646, 0.30772522511257039, 0.90835534732123047)"
       ]
      },
      {
       "output_type": "stream",
       "stream": "stdout",
       "text": [
        "\n",
        "(0.15334230556979006, 0.30811247581332213, 0.9109363524231574)"
       ]
      },
      {
       "output_type": "stream",
       "stream": "stdout",
       "text": [
        "\n",
        "(0.15325705068897727, 0.30962802760194974, 0.90980703777173588)"
       ]
      },
      {
       "output_type": "stream",
       "stream": "stdout",
       "text": [
        "\n",
        "(0.15323958609191579, 0.31091791917300227, 0.90941978707098392)"
       ]
      },
      {
       "output_type": "stream",
       "stream": "stdout",
       "text": [
        "\n",
        "(0.15397183107674972, 0.31055178478758527, 0.90888235840131304)"
       ]
      },
      {
       "output_type": "stream",
       "stream": "stdout",
       "text": [
        "\n",
        "(0.15453666954814305, 0.31180674716451473, 0.90798771462467398)"
       ]
      },
      {
       "output_type": "stream",
       "stream": "stdout",
       "text": [
        "\n",
        "(0.15339672900460716, 0.31086138093696314, 0.91051746489058827)"
       ]
      },
      {
       "output_type": "stream",
       "stream": "stdout",
       "text": [
        "\n",
        "(0.15357849686692421, 0.30936039941847326, 0.90936051650243299)"
       ]
      },
      {
       "output_type": "stream",
       "stream": "stdout",
       "text": [
        "\n",
        "(0.15385097045393642, 0.31244092643938504, 0.90750542222666242)"
       ]
      },
      {
       "output_type": "stream",
       "stream": "stdout",
       "text": [
        "\n",
        "(0.1541053028960096, 0.31460515175241643, 0.90578995712841492)"
       ]
      },
      {
       "output_type": "stream",
       "stream": "stdout",
       "text": [
        "\n",
        "(0.15396598317619253, 0.31468950439019605, 0.90670088523137471)"
       ]
      },
      {
       "output_type": "stream",
       "stream": "stdout",
       "text": [
        "\n",
        "(0.15478915867405213, 0.31564637478046287, 0.90482901343641786)"
       ]
      },
      {
       "output_type": "stream",
       "stream": "stdout",
       "text": [
        "\n",
        "(0.15556394496512027, 0.31801060258419311, 0.90253362661913483)"
       ]
      },
      {
       "output_type": "stream",
       "stream": "stdout",
       "text": [
        "\n",
        "(0.15511832294813188, 0.32098505436361846, 0.90113395425130349)"
       ]
      },
      {
       "output_type": "stream",
       "stream": "stdout",
       "text": [
        "\n",
        "(0.15589239736331528, 0.32104436807662262, 0.89960414010119405)"
       ]
      },
      {
       "output_type": "stream",
       "stream": "stdout",
       "text": [
        "\n",
        "(0.15685560445687663, 0.32422179991983591, 0.89605576753610361)"
       ]
      },
      {
       "output_type": "stream",
       "stream": "stdout",
       "text": [
        "\n",
        "(0.15694447395503536, 0.32542153159720633, 0.89639119018600688)"
       ]
      },
      {
       "output_type": "stream",
       "stream": "stdout",
       "text": [
        "\n",
        "(0.15481509566076604, 0.31730924671361393, 0.90344026539281286)"
       ]
      },
      {
       "output_type": "stream",
       "stream": "stdout",
       "text": [
        "\n",
        "(0.15572930237800248, 0.31659109055266799, 0.90258473382412419)"
       ]
      },
      {
       "output_type": "stream",
       "stream": "stdout",
       "text": [
        "\n",
        "(0.15539391863626895, 0.31861920097774321, 0.90121913292628597)"
       ]
      },
      {
       "output_type": "stream",
       "stream": "stdout",
       "text": [
        "\n",
        "(0.15543642521848178, 0.31846705137935571, 0.90154775634949824)"
       ]
      },
      {
       "output_type": "stream",
       "stream": "stdout",
       "text": [
        "\n",
        "(0.156556987645767, 0.32009242662548365, 0.89905082145706472)"
       ]
      },
      {
       "output_type": "stream",
       "stream": "stdout",
       "text": [
        "\n",
        "(0.15525056865701628, 0.31800504169158139, 0.90234290440887577)"
       ]
      },
      {
       "output_type": "stream",
       "stream": "stdout",
       "text": [
        "\n",
        "(0.15532362511453973, 0.32175321687903846, 0.89974513341558793)"
       ]
      },
      {
       "output_type": "stream",
       "stream": "stdout",
       "text": [
        "\n",
        "(0.15512078648280836, 0.32433428004222375, 0.89832533321131969)"
       ]
      },
      {
       "output_type": "stream",
       "stream": "stdout",
       "text": [
        "\n",
        "(0.15554130220476575, 0.32206803305213927, 0.89958036226760685)"
       ]
      },
      {
       "output_type": "stream",
       "stream": "stdout",
       "text": [
        "\n",
        "(0.15551508295819477, 0.32116778763394338, 0.90007221078807975)"
       ]
      },
      {
       "output_type": "stream",
       "stream": "stdout",
       "text": [
        "\n",
        "(0.15590350163368358, 0.32463854003482162, 0.89727141846103198)"
       ]
      },
      {
       "output_type": "stream",
       "stream": "stdout",
       "text": [
        "\n",
        "(0.15541380190118309, 0.31966341627739148, 0.90107503292191482)"
       ]
      },
      {
       "output_type": "stream",
       "stream": "stdout",
       "text": [
        "\n",
        "(0.15557146662783061, 0.32047287985475836, 0.90021066017105122)"
       ]
      },
      {
       "output_type": "stream",
       "stream": "stdout",
       "text": [
        "\n",
        "(0.15577785750260731, 0.32251689359622149, 0.89863158953664057)"
       ]
      },
      {
       "output_type": "stream",
       "stream": "stdout",
       "text": [
        "\n",
        "(0.15550481580153913, 0.32037678560709898, 0.90046417207559626)"
       ]
      },
      {
       "output_type": "stream",
       "stream": "stdout",
       "text": [
        "\n",
        "(0.1555757588917655, 0.32164336718708164, 0.89966497022386738)"
       ]
      },
      {
       "output_type": "stream",
       "stream": "stdout",
       "text": [
        "\n",
        "(0.15557253969381435, 0.32076550168783918, 0.90007423768425521)"
       ]
      },
      {
       "output_type": "stream",
       "stream": "stdout",
       "text": [
        "\n",
        "(0.15504158970994686, 0.32088596803936176, 0.90058488868243236)"
       ]
      },
      {
       "output_type": "stream",
       "stream": "stdout",
       "text": [
        "\n",
        "(0.15542233835566049, 0.31959895334382826, 0.90100373221260144)"
       ]
      },
      {
       "output_type": "stream",
       "stream": "stdout",
       "text": [
        "\n",
        "(0.15534830342481992, 0.32121465099523594, 0.90005978311484136)"
       ]
      },
      {
       "output_type": "stream",
       "stream": "stdout",
       "text": [
        "\n",
        "(0.15502393293038957, 0.32088610140662527, 0.90066499156432478)"
       ]
      },
      {
       "output_type": "stream",
       "stream": "stdout",
       "text": [
        "\n",
        "(0.15543538800295814, 0.3207956516175357, 0.90022192615427254)"
       ]
      },
      {
       "output_type": "stream",
       "stream": "stdout",
       "text": [
        "\n",
        "(0.1553062255848095, 0.32015761918076169, 0.90078754149335949)"
       ]
      },
      {
       "output_type": "stream",
       "stream": "stdout",
       "text": [
        "\n",
        "(0.15533778396481732, 0.32095039304161738, 0.90024172270947089)"
       ]
      },
      {
       "output_type": "stream",
       "stream": "stdout",
       "text": [
        "\n",
        "(0.15581040213626285, 0.32052925213813965, 0.9000336586104607)"
       ]
      },
      {
       "output_type": "stream",
       "stream": "stdout",
       "text": [
        "\n",
        "(0.15561819902968385, 0.32061843111344518, 0.90017146612845367)"
       ]
      },
      {
       "output_type": "stream",
       "stream": "stdout",
       "text": [
        "\n",
        "(0.15542276486343376, 0.32119953157463316, 0.89995923791920196)"
       ]
      },
      {
       "output_type": "stream",
       "stream": "stdout",
       "text": [
        "\n",
        "(0.15548430306701277, 0.3205824720989825, 0.90033793853649768)"
       ]
      },
      {
       "output_type": "stream",
       "stream": "stdout",
       "text": [
        "\n",
        "(0.15552480270471786, 0.320638545885161, 0.90027882542867577)"
       ]
      },
      {
       "output_type": "stream",
       "stream": "stdout",
       "text": [
        "\n",
        "(0.15550244902927793, 0.3206778223182547, 0.90026460061007496)"
       ]
      },
      {
       "output_type": "stream",
       "stream": "stdout",
       "text": [
        "\n",
        "(0.15526482501105485, 0.32085536052579117, 0.90039137510890876)"
       ]
      },
      {
       "output_type": "stream",
       "stream": "stdout",
       "text": [
        "\n",
        "(0.1555298555250266, 0.3206776634665317, 0.90022644337356739)"
       ]
      },
      {
       "output_type": "stream",
       "stream": "stdout",
       "text": [
        "\n",
        "(0.15539884600862655, 0.32079586341983302, 0.90027280246961561)"
       ]
      },
      {
       "output_type": "stream",
       "stream": "stdout",
       "text": [
        "\n",
        "(0.15534704449830089, 0.32085488397062223, 0.90027690339938582)"
       ]
      },
      {
       "output_type": "stream",
       "stream": "stdout",
       "text": [
        "\n",
        "(0.1556042191022933, 0.32042027294861414, 0.900316400210316)"
       ]
      },
      {
       "output_type": "stream",
       "stream": "stdout",
       "text": [
        "\n",
        "(0.15540439274918633, 0.32081786301836657, 0.90026039208468212)"
       ]
      },
      {
       "output_type": "stream",
       "stream": "stdout",
       "text": [
        "\n",
        "(0.15532850569152387, 0.32078646889158968, 0.90035431202029637)"
       ]
      },
      {
       "output_type": "stream",
       "stream": "stdout",
       "text": [
        "\n",
        "(0.1552701932325451, 0.32101765812087701, 0.90025373251323171)"
       ]
      },
      {
       "output_type": "stream",
       "stream": "stdout",
       "text": [
        "\n",
        "(0.15532372069116201, 0.32090886161540338, 0.90027478401904815)"
       ]
      },
      {
       "output_type": "stream",
       "stream": "stdout",
       "text": [
        "\n",
        "(0.1554228006077927, 0.32089525647747896, 0.90018434036193429)"
       ]
      },
      {
       "output_type": "stream",
       "stream": "stdout",
       "text": [
        "\n",
        "(0.15535207942059109, 0.32081366578806203, 0.90031181910570579)"
       ]
      },
      {
       "output_type": "stream",
       "stream": "stdout",
       "text": [
        "\n",
        "Optimization terminated successfully."
       ]
      },
      {
       "output_type": "stream",
       "stream": "stdout",
       "text": [
        "\n",
        "         Current function value: 9.032663\n",
        "         Iterations: 46\n",
        "         Function evaluations: 87\n",
        "(0.15539000717435586, 0.32081366578806203, 0.90031181910570579)\n",
        "(0.15535207942059109, 0.32081366578806203, 0.90031181910570579)"
       ]
      },
      {
       "output_type": "stream",
       "stream": "stdout",
       "text": [
        "\n",
        "(0.15535207942059109, 0.32081366578806203, 0.90031181910570579)"
       ]
      },
      {
       "output_type": "stream",
       "stream": "stdout",
       "text": [
        "\n",
        "(0.15531415166682633, 0.32081366578806203, 0.90031181910570579)"
       ]
      },
      {
       "output_type": "stream",
       "stream": "stdout",
       "text": [
        "\n",
        "(0.15537104329747348, 0.32085282761249906, 0.90031181910570579)"
       ]
      },
      {
       "output_type": "stream",
       "stream": "stdout",
       "text": [
        "\n",
        "(0.15537104329747348, 0.320774503963625, 0.90031181910570579)"
       ]
      },
      {
       "output_type": "stream",
       "stream": "stdout",
       "text": [
        "\n",
        "(0.15533311554370871, 0.32085282761249906, 0.90031181910570579)"
       ]
      },
      {
       "output_type": "stream",
       "stream": "stdout",
       "text": [
        "\n",
        "(0.15533311554370871, 0.320774503963625, 0.90031181910570579)"
       ]
      },
      {
       "output_type": "stream",
       "stream": "stdout",
       "text": [
        "\n",
        "(0.15537104329747348, 0.32081366578806203, 0.90042172045081148)"
       ]
      },
      {
       "output_type": "stream",
       "stream": "stdout",
       "text": [
        "\n",
        "(0.15537104329747348, 0.32081366578806203, 0.9002019177606001)"
       ]
      },
      {
       "output_type": "stream",
       "stream": "stdout",
       "text": [
        "\n",
        "(0.15533311554370871, 0.32081366578806203, 0.90042172045081148)"
       ]
      },
      {
       "output_type": "stream",
       "stream": "stdout",
       "text": [
        "\n",
        "(0.15533311554370871, 0.32081366578806203, 0.9002019177606001)"
       ]
      },
      {
       "output_type": "stream",
       "stream": "stdout",
       "text": [
        "\n",
        "(0.15535207942059109, 0.32089198943693609, 0.90031181910570579)"
       ]
      },
      {
       "output_type": "stream",
       "stream": "stdout",
       "text": [
        "\n",
        "(0.15535207942059109, 0.32081366578806203, 0.90031181910570579)"
       ]
      },
      {
       "output_type": "stream",
       "stream": "stdout",
       "text": [
        "\n",
        "(0.15535207942059109, 0.32081366578806203, 0.90031181910570579)"
       ]
      },
      {
       "output_type": "stream",
       "stream": "stdout",
       "text": [
        "\n",
        "(0.15535207942059109, 0.32073534213918797, 0.90031181910570579)"
       ]
      },
      {
       "output_type": "stream",
       "stream": "stdout",
       "text": [
        "\n",
        "(0.15535207942059109, 0.32085282761249906, 0.90042172045081148)"
       ]
      },
      {
       "output_type": "stream",
       "stream": "stdout",
       "text": [
        "\n",
        "(0.15535207942059109, 0.32085282761249906, 0.9002019177606001)"
       ]
      },
      {
       "output_type": "stream",
       "stream": "stdout",
       "text": [
        "\n",
        "(0.15535207942059109, 0.320774503963625, 0.90042172045081148)"
       ]
      },
      {
       "output_type": "stream",
       "stream": "stdout",
       "text": [
        "\n",
        "(0.15535207942059109, 0.320774503963625, 0.9002019177606001)"
       ]
      },
      {
       "output_type": "stream",
       "stream": "stdout",
       "text": [
        "\n",
        "(0.15535207942059109, 0.32081366578806203, 0.90053162179591717)"
       ]
      },
      {
       "output_type": "stream",
       "stream": "stdout",
       "text": [
        "\n",
        "(0.15535207942059109, 0.32081366578806203, 0.90031181910570579)"
       ]
      },
      {
       "output_type": "stream",
       "stream": "stdout",
       "text": [
        "\n",
        "(0.15535207942059109, 0.32081366578806203, 0.90031181910570579)"
       ]
      },
      {
       "output_type": "stream",
       "stream": "stdout",
       "text": [
        "\n",
        "(0.15535207942059109, 0.32081366578806203, 0.90009201641549441)"
       ]
      },
      {
       "output_type": "stream",
       "stream": "stdout",
       "text": [
        "\n"
       ]
      }
     ],
     "prompt_number": 76
    },
    {
     "cell_type": "heading",
     "level": 1,
     "metadata": {},
     "source": [
      "Use estiamted parameters to calculate optimal unemployment benefit schedule"
     ]
    },
    {
     "cell_type": "code",
     "collapsed": false,
     "input": [
      "N = len(X)\n",
      "Ht_dict = []\n",
      "pdf_dict = []\n",
      "\n",
      "sigma = res.params[0]\n",
      "alpha = res.params[1]\n",
      "l = res.params[2]\n",
      "V0_vector = np.arange(0,2,h)\n",
      "s0_vector = np.arange(0,2,h)\n",
      "print (sigma, alpha,l)\n",
      "s1 = optimize.bisect(foc(sigma,alpha,l), 1e-8, 10)\n",
      "V1 = V(s1, sigma, alpha, l)\n",
      "\n",
      "for i in reversed(range(len(t_space))):\n",
      "    z1 = vdot(s1,V1,b,sigma,alpha,l)\n",
      "\n",
      "    s0 = optimize.brentq(foc1(V1 - h*z1/2, sigma,alpha,l), 1e-15, 5)\n",
      "    z2 = vdot(s0,V1 - h*z1/2,b,sigma,alpha,l)\n",
      "\n",
      "    s0 = optimize.brentq(foc1(V1 - h*z2/2, sigma,alpha,l), 1e-15, 5)\n",
      "    z3 = vdot(s0,V1 - h*z2/2,b,sigma,alpha,l)\n",
      "\n",
      "    s0 = optimize.brentq(foc1(V1 - h*z3, sigma,alpha,l), 1e-15, 5)\n",
      "    z4 = vdot(s0,V1 - h*z3,b,sigma,alpha,l)\n",
      "\n",
      "    V1 = V1 - h/6 * (z1 + 2 *z2 + 2*z3 + z4)\n",
      "\n",
      "    V0_vector[i] = V1\n",
      "    s0_vector[i] = optimize.brentq(foc1(V1, sigma,alpha,l), 1e-15, 5)\n",
      "    \n",
      "for i in range(len(t_space)):\n",
      "    s0_vector_short = s0_vector[0:i+1]\n",
      "    t_space_short = t_space[0:i+1]\n",
      "    ls0_fun_short = np.trapz(lam(s0_vector_short,alpha,l), t_space_short)\n",
      "    Ht = 1 -  np.exp(-ls0_fun_short)\n",
      "    Ht_dict.append(Ht)\n",
      "    pdf = lam(s0_vector[i], alpha, l) * np.exp(-ls0_fun_short)\n",
      "    pdf_dict.append(pdf)\n",
      "\n",
      "\n",
      "ls0_fun_full = np.trapz(lam(s0_vector,alpha,l), t_space)\n",
      "lam_s1 = lam(s1, alpha, l)\n",
      "\n",
      "\n",
      "#print 'ready to generate likelihood function'\n",
      "\n",
      "obs_short = X[X<=2]\n",
      "pdf_short = np.zeros_like(obs_short)\n",
      "cnt = 0\n",
      "for t in obs_short:\n",
      "    index_short = np.argmin(abs(t_space - t))\n",
      "    if index_short <= 1998:\n",
      "\n",
      "        if t_space[index_short] - t > 0:\n",
      "            pdf_short[cnt] =  (1 - Ht_dict[index_short - 1]) * (Ht_dict[index_short] - Ht_dict[index_short - 1])\n",
      "        else:\n",
      "            pdf_short[cnt] =  (1 - Ht_dict[index_short]) * (Ht_dict[index_short + 1] - Ht_dict[index_short])\n",
      "    else:\n",
      "        pdf_short[cnt] =   (1 - Ht_dict[1998]) * \\\n",
      "        (1 -  np.exp(-ls0_fun_full) - Ht_dict[1998])\n",
      "    cnt += 1 \n",
      "\n",
      "obs_long = X[X>2]\n",
      "pdf_long =  (np.exp(-(ls0_fun_full+ (obs_long-2)*lam_s1))) *\\\n",
      "((1 - np.exp(-(ls0_fun_full+ (obs_long + h -2)*lam_s1))) - (1 - np.exp(-(ls0_fun_full+ (obs_long -2)*lam_s1))))\n",
      "\n",
      "ll = np.append(pdf_short, pdf_long)"
     ],
     "language": "python",
     "metadata": {},
     "outputs": [
      {
       "output_type": "stream",
       "stream": "stdout",
       "text": [
        "(0.15535207942059109, 0.32081366578806203, 0.90031181910570579)\n"
       ]
      }
     ],
     "prompt_number": 80
    },
    {
     "cell_type": "code",
     "collapsed": false,
     "input": [
      "#plot the generated likelihood\n",
      "plt.plot(ll)"
     ],
     "language": "python",
     "metadata": {},
     "outputs": [
      {
       "metadata": {},
       "output_type": "pyout",
       "prompt_number": 82,
       "text": [
        "[<matplotlib.lines.Line2D at 0x223beeb8>]"
       ]
      },
      {
       "metadata": {},
       "output_type": "display_data",
       "png": "[encoded data removed]",
       "text": [
        "<matplotlib.figure.Figure at 0x22ad34a8>"
       ]
      }
     ],
     "prompt_number": 82
    },
    {
     "cell_type": "code",
     "collapsed": false,
     "input": [
      "# solve the ODE system by RK4 method\n",
      "b_vector = []\n",
      "c_vector = []\n",
      "v_vector = []\n",
      "s_vector = []\n",
      "\n",
      "b0 = h\n",
      "c0 = h\n",
      "\n",
      "s1 = optimize.bisect(foc(sigma,alpha,l), 1e-8, 10)\n",
      "V1 = V(s1, sigma, alpha, l)\n",
      "V0 = 0\n",
      "\n",
      "while abs(V0 - V0_vector[0]) > abs(V1 - V0_vector[0]):\n",
      "    V0 = V1\n",
      "    v_vector.insert(0, V0)\n",
      "    b_vector.insert(0, b0)\n",
      "    c_vector.insert(0, c0)\n",
      "    s_vector.insert(0, s1)\n",
      "    \n",
      "    z1_v = vdot(s1,V1,b0,sigma,alpha,l)\n",
      "    z1_c = cdot(s1,c0,b0,sigma,alpha,l)\n",
      "    z1_b = bdot(s1,b0,c0,V1,sigma,alpha,l)\n",
      "\n",
      "\n",
      "\n",
      "    s0 = optimize.brentq(foc1(V1 - h*z1_v/2, sigma,alpha,l), 1e-15, 5)\n",
      "    z2_v = vdot(s0,V1 - h*z1_v/2,b0 - h*z1_b/2,sigma,alpha,l)\n",
      "    z2_c = cdot(s0,c0 - h*z1_c/2,b0 - h*z1_b/2,sigma,alpha,l)\n",
      "    z2_b = bdot(s0,b0 - h*z1_b/2,c0  - h*z1_c/2,V1  - h*z1_v/2,sigma,alpha,l)\n",
      "\n",
      "    s0 = optimize.brentq(foc1(V1 - h*z2/2, sigma,alpha,l), 1e-15, 5)\n",
      "    z3_v = vdot(s0,V1 - h*z2_v/2,b0 - h*z2_b/2,sigma,alpha,l)\n",
      "    z3_c = cdot(s0,c0 - h*z2_c/2,b0 - h*z2_b/2,sigma,alpha,l)\n",
      "    z3_b = bdot(s0,b0 - h*z2_b/2,c0  - h*z2_c/2,V1  - h*z2_v/2,sigma,alpha,l)\n",
      "\n",
      "    s0 = optimize.brentq(foc1(V1 - h*z3, sigma,alpha,l), 1e-15, 5)\n",
      "    z4_v = vdot(s0,V1 - h*z3_v,b0 - h*z3_b,sigma,alpha,l)\n",
      "    z4_c = cdot(s0,c0 - h*z3_c,b0 - h*z3_b,sigma,alpha,l)\n",
      "    z4_b = bdot(s0,b0 - h*z3_b,c0  - h*z3_c,V1  - h*z3_v,sigma,alpha,l)\n",
      "\n",
      "    V1 = V1 - h/6 * (z1_v + 2 *z2_v + 2*z3_v + z4_v)\n",
      "    s1 = optimize.brentq(foc1(V1, sigma,alpha,l), 1e-15, 5)\n",
      "    b0 = b0 - h/6 * (z1_b + 2 *z2_b + 2*z3_b + z4_b)\n",
      "    c0 = c0 - h/6 * (z1_c + 2 *z2_c + 2*z3_c + z4_c)\n",
      "    \n",
      "    "
     ],
     "language": "python",
     "metadata": {},
     "outputs": [],
     "prompt_number": 83
    },
    {
     "cell_type": "code",
     "collapsed": false,
     "input": [
      "#plot path of v,s,b,c \n",
      "plt.subplots(figsize=(10,10))\n",
      "plt.subplot(2,2,1)\n",
      "plt.plot(v_vector)\n",
      "plt.title('Path of V0')\n",
      "plt.subplot(2,2,2)\n",
      "plt.plot(s_vector)\n",
      "plt.title('Path of s')\n",
      "plt.subplot(2,2,3)\n",
      "plt.plot(b_vector)\n",
      "plt.title('Path of b')\n",
      "plt.subplot(2,2,4)\n",
      "plt.plot(c_vector)\n",
      "plt.title('Path of C')"
     ],
     "language": "python",
     "metadata": {},
     "outputs": [
      {
       "metadata": {},
       "output_type": "pyout",
       "prompt_number": 86,
       "text": [
        "<matplotlib.text.Text at 0x231717f0>"
       ]
      },
      {
       "metadata": {},
       "output_type": "display_data",
       "png": "[encoded data removed]",
       "text": [
        "<matplotlib.figure.Figure at 0x217fad30>"
       ]
      }
     ],
     "prompt_number": 86
    },
    {
     "cell_type": "code",
     "collapsed": false,
     "input": [
      "plt.subplots(figsize=(10,10))\n",
      "plt.subplot(2,2,1)\n",
      "plt.plot(v_vector)\n",
      "plt.title('Path of V0 under optimal b')\n",
      "plt.subplot(2,2,2)\n",
      "plt.plot(V0_vector)\n",
      "plt.title('Path of V0 under constant b')\n",
      "plt.subplot(2,2,3)\n",
      "plt.plot(s_vector)\n",
      "plt.title('Path of s under optimal b')\n",
      "plt.subplot(2,2,4)\n",
      "plt.plot(s0_vector)\n",
      "plt.title('Path of V0 under constant b')"
     ],
     "language": "python",
     "metadata": {},
     "outputs": [
      {
       "metadata": {},
       "output_type": "pyout",
       "prompt_number": 87,
       "text": [
        "<matplotlib.text.Text at 0x238066d8>"
       ]
      },
      {
       "metadata": {},
       "output_type": "display_data",
       "png": "[encoded data removed]",
       "text": [
        "<matplotlib.figure.Figure at 0x2343a8d0>"
       ]
      }
     ],
     "prompt_number": 87
    },
    {
     "cell_type": "heading",
     "level": 2,
     "metadata": {},
     "source": []
    }
   ],
   "metadata": {}
  }
 ]
}