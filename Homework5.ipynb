{
 "metadata": {
  "name": "",
  "signature": "sha256:00c2da4948e863ed2ba99e83604eb5a9bfc921b5ae32a44e821c65039039944a"
 },
 "nbformat": 3,
 "nbformat_minor": 0,
 "worksheets": [
  {
   "cells": [
    {
     "cell_type": "code",
     "collapsed": false,
     "input": [
      "import numpy\n",
      "from scipy.stats import binom\n",
      "#Implement Gaussian Elimination\n",
      "def scale_GE(A): #input a n x n numpy array   \n",
      "    size = len(A[0])\n",
      "    #print size\n",
      "    #reduction\n",
      "    for i in range(size - 1):\n",
      "        for k in range(i+1, size):\n",
      "            A[k,i] = A[k,i] / (-A[i,i])\n",
      "            for j in range(i+1, size):   \n",
      "                A[k,j] = A[k,j] + A[k,i] * A[i,j]\n",
      "    #backward substitution\n",
      "    X = [0] * size\n",
      "    X[size - 1] = 1\n",
      "    for i in reversed(range(size - 1)):\n",
      "        X[i] =  sum(A[j, i] * X[j] for j in range(i+1, size))\n",
      "        \n",
      "    #normalization\n",
      "    \n",
      "    X_nor = [i/sum(X) for i in X] \n",
      "                \n",
      "    return A, X, X_nor"
     ],
     "language": "python",
     "metadata": {},
     "outputs": [],
     "prompt_number": 146
    },
    {
     "cell_type": "code",
     "collapsed": false,
     "input": [
      "def GTH(A): #input a n x n numpy array   \n",
      "    size = len(A[0])\n",
      "    #print size\n",
      "    #reduction\n",
      "    for i in range(size - 1):\n",
      "        for k in range(i+1, size):\n",
      "            A[k,i] = A[k,i] / (sum(A[i,l] for l in range(i+1, size)))\n",
      "            for j in range(i+1, size):   \n",
      "                A[k,j] = A[k,j] + A[k,i] * A[i,j]\n",
      "    #backward substitution\n",
      "    X = [0] * size\n",
      "    X[size - 1] = 1\n",
      "    for i in reversed(range(size - 1)):\n",
      "        X[i] =  sum(A[j, i] * X[j] for j in range(i+1, size))\n",
      "        \n",
      "    #normalization\n",
      "    \n",
      "    X_nor = [i/sum(X) for i in X] \n",
      "                \n",
      "    return A, X, X_nor"
     ],
     "language": "python",
     "metadata": {},
     "outputs": [],
     "prompt_number": 126
    },
    {
     "cell_type": "code",
     "collapsed": false,
     "input": [
      "C = numpy.vstack([[-4.0,1.0,2.0,1.0],[4.0,-9.0,2.0,3.0],[0.0,1.0,-3.0,2.0],[0.0,0.0,5.0,-5.0]])\n",
      "D = numpy.vstack([[-4.0,1.0,2.0,1.0],[4.0,-9.0,2.0,3.0],[0.0,1.0,-3.0,2.0],[0.0,0.0,5.0,-5.0]])"
     ],
     "language": "python",
     "metadata": {},
     "outputs": [],
     "prompt_number": 127
    },
    {
     "cell_type": "code",
     "collapsed": false,
     "input": [
      "print C"
     ],
     "language": "python",
     "metadata": {},
     "outputs": [
      {
       "output_type": "stream",
       "stream": "stdout",
       "text": [
        "[[-4.  1.  2.  1.]\n",
        " [ 4. -9.  2.  3.]\n",
        " [ 0.  1. -3.  2.]\n",
        " [ 0.  0.  5. -5.]]\n"
       ]
      }
     ],
     "prompt_number": 128
    },
    {
     "cell_type": "code",
     "collapsed": false,
     "input": [
      "B, X, X_nor= scale_GE(C)\n",
      "B1, X1, X_nor1 = GTH(D)"
     ],
     "language": "python",
     "metadata": {},
     "outputs": [],
     "prompt_number": 129
    },
    {
     "cell_type": "code",
     "collapsed": false,
     "input": [
      "print B\n",
      "print B1 \n",
      "print X\n",
      "print X1\n",
      "print X_nor \n",
      "print X_nor1\n",
      "print sum(X_nor), sum(X_nor1) "
     ],
     "language": "python",
     "metadata": {},
     "outputs": [
      {
       "output_type": "stream",
       "stream": "stdout",
       "text": [
        "[[-4.     1.     2.     1.   ]\n",
        " [ 1.    -8.     4.     4.   ]\n",
        " [ 0.     0.125 -2.5    2.5  ]\n",
        " [ 0.     0.     2.     0.   ]]\n",
        "[[-4.     1.     2.     1.   ]\n",
        " [ 1.    -8.     4.     4.   ]\n",
        " [ 0.     0.125 -2.5    2.5  ]\n",
        " [ 0.     0.     2.     0.   ]]\n",
        "[0.25, 0.25, 2.0, 1]\n",
        "[0.25, 0.25, 2.0, 1]\n",
        "[0.071428571428571425, 0.071428571428571425, 0.5714285714285714, 0.2857142857142857]\n",
        "[0.071428571428571425, 0.071428571428571425, 0.5714285714285714, 0.2857142857142857]\n",
        "1.0 1.0\n"
       ]
      }
     ],
     "prompt_number": 130
    },
    {
     "cell_type": "code",
     "collapsed": false,
     "input": [
      "q = 0.5 \n",
      "for order in range(8, 17):\n",
      "    e = 10.0 ** -order\n",
      "    A = numpy.vstack([[-(q+e), q, e],[q,-(q+e),e],[e,e,-2*e]])\n",
      "    K, X2, X2_nor= scale_GE(A)\n",
      "    print X2_nor"
     ],
     "language": "python",
     "metadata": {},
     "outputs": [
      {
       "output_type": "stream",
       "stream": "stdout",
       "text": [
        "[0.33333333289749684, 0.33333333289749684, 0.33333333420500644]\n",
        "[0.33333333636465906, 0.33333333636465906, 0.33333332727068182]\n",
        "[0.33333332412884792, 0.33333332412884792, 0.33333335174230416]\n",
        "[0.33333332413884792, 0.33333332413884792, 0.33333335172230422]\n",
        "[0.3333357913202496, 0.3333357913202496, 0.33332841735950086]\n",
        "[0.33329878744869595, 0.33329878744869595, 0.33340242510260809]\n",
        "[0.33342216564916144, 0.33342216564916144, 0.33315566870167712]\n",
        "[0.33342216564916244, 0.33342216564916244, 0.33315566870167507]\n",
        "[0.32152035146113667, 0.32152035146113667, 0.35695929707772656]\n"
       ]
      }
     ],
     "prompt_number": 140
    },
    {
     "cell_type": "code",
     "collapsed": false,
     "input": [
      "for order in range(8, 17):\n",
      "    e = 10.0 ** -order\n",
      "    A = numpy.vstack([[-(q+e), q, e],[q,-(q+e),e],[e,e,-2*e]])\n",
      "    K, X2, X2_nor= GTH(A)\n",
      "    print X2_nor"
     ],
     "language": "python",
     "metadata": {},
     "outputs": [
      {
       "output_type": "stream",
       "stream": "stdout",
       "text": [
        "[0.33333333333333331, 0.33333333333333331, 0.33333333333333331]\n",
        "[0.33333333333333331, 0.33333333333333331, 0.33333333333333331]\n",
        "[0.33333333333333331, 0.33333333333333331, 0.33333333333333331]\n",
        "[0.33333333333333331, 0.33333333333333331, 0.33333333333333331]\n",
        "[0.33333333333333331, 0.33333333333333331, 0.33333333333333331]\n",
        "[0.33333333333333331, 0.33333333333333331, 0.33333333333333331]\n",
        "[0.33333333333333331, 0.33333333333333331, 0.33333333333333331]\n",
        "[0.33333333333333331, 0.33333333333333331, 0.33333333333333331]\n",
        "[0.33333333333333331, 0.33333333333333331, 0.33333333333333331]\n"
       ]
      }
     ],
     "prompt_number": 141
    },
    {
     "cell_type": "code",
     "collapsed": false,
     "input": [
      "#Create KMR matrix, function from Oyama sensei's code\n",
      "def KMR_2x2_P_simultaneous(N, p, epsilon):\n",
      "    P = numpy.empty((N+1, N+1), dtype=float)\n",
      "    for n in range(N+1):\n",
      "        P[n, :] = \\\n",
      "        (n/N < p) * binom.pmf(range(N+1), N, epsilon/2) + \\\n",
      "        (n/N == p) * binom.pmf(range(N+1), N, 1/2) + \\\n",
      "        (n/N > p) * binom.pmf(range(N+1), N, 1-epsilon/2)\n",
      "    return P"
     ],
     "language": "python",
     "metadata": {},
     "outputs": [],
     "prompt_number": 144
    },
    {
     "cell_type": "code",
     "collapsed": false,
     "input": [],
     "language": "python",
     "metadata": {},
     "outputs": [],
     "prompt_number": 160
    },
    {
     "cell_type": "code",
     "collapsed": false,
     "input": [
      "P = KMR_2x2_P_simultaneous(3, 1.0/3, 0.01)\n",
      "print P\n",
      "P3, X3, X3_nor= scale_GE(P)\n",
      "print X3_nor"
     ],
     "language": "python",
     "metadata": {},
     "outputs": [
      {
       "output_type": "stream",
       "stream": "stdout",
       "text": [
        "[[  9.85074875e-01   1.48503750e-02   7.46250000e-05   1.25000000e-07]\n",
        " [  9.85074875e-01   1.48503750e-02   7.46250000e-05   1.25000000e-07]\n",
        " [  9.85074875e-01   1.48503750e-02   7.46250000e-05   1.25000000e-07]\n",
        " [  1.25000000e-07   7.46250000e-05   1.48503750e-02   9.85074875e-01]]\n",
        "[nan, nan, nan, nan]\n"
       ]
      }
     ],
     "prompt_number": 177
    },
    {
     "cell_type": "code",
     "collapsed": false,
     "input": [
      "P = KMR_2x2_P_simultaneous(3, 1.0/3, 0.01)\n",
      "P4, X4, X4_nor= GTH(P)\n",
      "print X4_nor"
     ],
     "language": "python",
     "metadata": {},
     "outputs": [
      {
       "output_type": "stream",
       "stream": "stdout",
       "text": [
        "[0.9850666249309058, 0.014850251252072837, 7.4748747927170362e-05, 8.3750690943200366e-06]\n"
       ]
      }
     ],
     "prompt_number": 178
    },
    {
     "cell_type": "code",
     "collapsed": false,
     "input": [],
     "language": "python",
     "metadata": {},
     "outputs": [],
     "prompt_number": 155
    },
    {
     "cell_type": "code",
     "collapsed": false,
     "input": [],
     "language": "python",
     "metadata": {},
     "outputs": []
    }
   ],
   "metadata": {}
  }
 ]
}