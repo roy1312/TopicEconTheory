{
 "metadata": {
  "name": "",
  "signature": "sha256:957b88293198b34a1bd13f3611cfff7ae6245671b6baf74f29b41fd95e41d28d"
 },
 "nbformat": 3,
 "nbformat_minor": 0,
 "worksheets": [
  {
   "cells": [
    {
     "cell_type": "code",
     "collapsed": false,
     "input": [
      "import numpy as np\n",
      "from itertools import product\n",
      "import quantecon as qe"
     ],
     "language": "python",
     "metadata": {},
     "outputs": [],
     "prompt_number": 1
    },
    {
     "cell_type": "code",
     "collapsed": false,
     "input": [
      "#implement algorithm in a class\n",
      "class MDP:\n",
      "    def __init__(self, delta, r, Q):\n",
      "        self.discount = delta\n",
      "        self.utility = np.array(r)\n",
      "        self.transition_matrix = np.array(Q)\n",
      "        \n",
      "        \n",
      "        \n",
      "    def Bellmanop(self, w): \n",
      "        \n",
      "        value = self.utility + self.discount * self.transition_matrix.dot(w)\n",
      "        Bw = value.max(axis = 1)\n",
      "        optimal_decision = value.argmax(axis = 1)\n",
      "\n",
      "        return Bw, optimal_decision\n",
      "    \n",
      "    def span_vector(self, w):\n",
      "        middlevalue = (max(w) + min(w))/2 \n",
      "        return np.array([middlevalue] * len(w), dtype = float)\n",
      "    \n",
      "    def value_iteration(self,epsilon = 10 ** -7, max_iter = 10000):\n",
      "        w = self.utility[:,0] #initial value\n",
      "        \n",
      "        #error bound 1 is used\n",
      "        tol = epsilon * (2 * self.discount)/ (1 - self.discount)\n",
      "        cnt = 0\n",
      "        record_loop = []\n",
      "        \n",
      "        for i in range(max_iter):\n",
      "            Bw, optimal_decision = self.Bellmanop(w)\n",
      "            #if cnt < 10:\n",
      "                #print optimal_decision \n",
      "            if max(abs(Bw - w)) < tol:\n",
      "                print 'Loop ends after %d loops' %cnt\n",
      "                P = self.transition_matrix[np.arange(self.utility.shape[0]), optimal_decision]\n",
      "                return Bw, optimal_decision, P, record_loop\n",
      "            else:\n",
      "                record_loop.append(w)\n",
      "                w = Bw\n",
      "\n",
      "            cnt += 1\n",
      "            if cnt == max_iter:\n",
      "                print 'maximum loop'\n",
      "                P = self.transition_matrix[np.arange(self.utility.shape[0]), optimal_decision]\n",
      "                return Bw, optimal_decision, P, record_loop\n",
      "    \n",
      "    def policy_iteration(self, method,T = 10, epsilon = 10 ** -7, max_iter = 10000):\n",
      "        S, G = self.utility.shape[0], self.utility.shape[1]\n",
      "        sigma = [0] * S #initial policy\n",
      "        v_sigma = [0] * S\n",
      "        cnt = 0\n",
      "        \n",
      "        for j in range(max_iter):\n",
      "            cnt += 1\n",
      "            #evaluate the policy\n",
      "            \n",
      "            Q_sigma = self.transition_matrix[np.arange(S), sigma]\n",
      "            r_sigma = self.utility[np.arange(S), sigma]\n",
      "            \n",
      "            if method == 'exact':\n",
      "                coefficient = np.identity(S, dtype=float) - delta * Q_sigma\n",
      "                v_sigma = np.linalg.solve(coefficient, r_sigma)\n",
      "                \n",
      "                #policy improvement\n",
      "                v_sigma1, sigma1 = self.Bellmanop(v_sigma)\n",
      "\n",
      "                #print sigma\n",
      "                #print sigma1\n",
      "                print v_sigma\n",
      "\n",
      "                if (sigma1 == sigma).all():\n",
      "                    print 'Loop ends in %d loops' %cnt\n",
      "                    return sigma1, v_sigma1\n",
      "                else:\n",
      "                    sigma = sigma1\n",
      "                    #v_sigma = v_sigma1\n",
      "                if cnt == max_iter:\n",
      "                    print 'maximum loop'\n",
      "                    return sigma1, v_sigma1\n",
      "            else:\n",
      "                for i in range(T):\n",
      "                    v_sigma = r_sigma + delta * Q_sigma.dot(v_sigma)\n",
      "                    \n",
      "                #policy improvement\n",
      "                v_sigma1, sigma1 = self.Bellmanop(v_sigma)\n",
      "\n",
      "                #print sigma\n",
      "                #print sigma1\n",
      "                print v_sigma\n",
      "                \n",
      "                tol = epsilon * (self.discount)/ (1 - self.discount)\n",
      "                if max(v_sigma1 - v_sigma) - min(v_sigma1 - v_sigma) < tol:\n",
      "                    print 'Loop ends in %d loops' %cnt\n",
      "                    return sigma1, v_sigma1 + self.discount/(1 - self.discount) * self.span_vector(v_sigma1 - v_sigma)\n",
      "                else:\n",
      "                    sigma = sigma1\n",
      "                    #v_sigma = v_sigma1\n",
      "                if cnt == max_iter:\n",
      "                    print 'maximum loop'\n",
      "                    return sigma1, v_sigma1 + self.discount/(1 - self.discount) * self.span_vector(v_sigma1 - v_sigma)"
     ],
     "language": "python",
     "metadata": {},
     "outputs": [],
     "prompt_number": 2
    },
    {
     "cell_type": "markdown",
     "metadata": {},
     "source": [
      "Asset Replacement"
     ]
    },
    {
     "cell_type": "code",
     "collapsed": false,
     "input": [
      "maxage = 4\n",
      "repcost= 75\n",
      "delta = 0.9\n",
      "action = 1"
     ],
     "language": "python",
     "metadata": {},
     "outputs": [],
     "prompt_number": 8
    },
    {
     "cell_type": "code",
     "collapsed": false,
     "input": [
      "def reward(a):\n",
      "    return 50.0 - 2.5 * a - 2.5 * a * a\n"
     ],
     "language": "python",
     "metadata": {},
     "outputs": [],
     "prompt_number": 4
    },
    {
     "cell_type": "code",
     "collapsed": false,
     "input": [
      "r = np.zeros((maxage + 1, action + 1), dtype = float)\n",
      "\n",
      "for n,m in product(range(maxage + 1), range(action + 1)):\n",
      "    if m == 0:\n",
      "        r[n,m] = reward(n + 1)\n",
      "    else:\n",
      "        r[n,m] = reward(0) - repcost\n",
      "\n",
      "print r\n",
      "        "
     ],
     "language": "python",
     "metadata": {},
     "outputs": [
      {
       "output_type": "stream",
       "stream": "stdout",
       "text": [
        "[[ 45. -25.]\n",
        " [ 35. -25.]\n",
        " [ 20. -25.]\n",
        " [  0. -25.]\n",
        " [-25. -25.]]\n"
       ]
      }
     ],
     "prompt_number": 21
    },
    {
     "cell_type": "code",
     "collapsed": false,
     "input": [
      "#define the 3d array Q, first dimension state, second dimension action, third dimension  probability of next state\n",
      "Q = np.zeros((maxage + 1,action + 1,maxage +1), dtype = float)\n",
      "\n",
      "for m, n, k in product(range(maxage + 1), range(action + 1), range(maxage + 1)):\n",
      "    if n == 0 and m < 4:\n",
      "        Q[m, n, m + 1] = 1.0 \n",
      "    else:\n",
      "        Q[m, n, 0] = 1.0\n",
      "print Q"
     ],
     "language": "python",
     "metadata": {},
     "outputs": [
      {
       "output_type": "stream",
       "stream": "stdout",
       "text": [
        "[[[ 0.  1.  0.  0.  0.]\n",
        "  [ 1.  0.  0.  0.  0.]]\n",
        "\n",
        " [[ 0.  0.  1.  0.  0.]\n",
        "  [ 1.  0.  0.  0.  0.]]\n",
        "\n",
        " [[ 0.  0.  0.  1.  0.]\n",
        "  [ 1.  0.  0.  0.  0.]]\n",
        "\n",
        " [[ 0.  0.  0.  0.  1.]\n",
        "  [ 1.  0.  0.  0.  0.]]\n",
        "\n",
        " [[ 1.  0.  0.  0.  0.]\n",
        "  [ 1.  0.  0.  0.  0.]]]\n"
       ]
      }
     ],
     "prompt_number": 12
    },
    {
     "cell_type": "code",
     "collapsed": false,
     "input": [
      "assetR = MDP(delta, r, Q)"
     ],
     "language": "python",
     "metadata": {},
     "outputs": [],
     "prompt_number": 22
    },
    {
     "cell_type": "code",
     "collapsed": false,
     "input": [
      "Bw1, optimal_decision1, P1, record_loop1 = assetR.value_iteration()"
     ],
     "language": "python",
     "metadata": {},
     "outputs": [
      {
       "output_type": "stream",
       "stream": "stdout",
       "text": [
        "Loop ends after 155 loops\n"
       ]
      }
     ],
     "prompt_number": 23
    },
    {
     "cell_type": "code",
     "collapsed": false,
     "input": [
      "print optimal_decision1"
     ],
     "language": "python",
     "metadata": {},
     "outputs": [
      {
       "output_type": "stream",
       "stream": "stdout",
       "text": [
        "[0 0 0 1 0]\n"
       ]
      }
     ],
     "prompt_number": 24
    },
    {
     "cell_type": "code",
     "collapsed": false,
     "input": [
      "%matplotlib inline\n",
      "import matplotlib.pyplot as plt"
     ],
     "language": "python",
     "metadata": {},
     "outputs": [],
     "prompt_number": 25
    },
    {
     "cell_type": "code",
     "collapsed": false,
     "input": [
      "plt.plot(Bw1)"
     ],
     "language": "python",
     "metadata": {},
     "outputs": [
      {
       "metadata": {},
       "output_type": "pyout",
       "prompt_number": 26,
       "text": [
        "[<matplotlib.lines.Line2D at 0x182a96a0>]"
       ]
      },
      {
       "metadata": {},
       "output_type": "display_data",
       "png": "[encoded data removed]",
       "text": [
        "<matplotlib.figure.Figure at 0x17fa0dd8>"
       ]
      }
     ],
     "prompt_number": 26
    },
    {
     "cell_type": "code",
     "collapsed": false,
     "input": [
      "ageofmachine = 1\n",
      "recordofage = []\n",
      "for i in optimal_decision1:\n",
      "    recordofage.append(ageofmachine)\n",
      "    if i == 1:\n",
      "        ageofmachine = 1\n",
      "    else:\n",
      "        ageofmachine += 1\n",
      "plt.plot(recordofage * 3)\n",
      "\n",
      "print recordofage"
     ],
     "language": "python",
     "metadata": {},
     "outputs": [
      {
       "output_type": "stream",
       "stream": "stdout",
       "text": [
        "[1, 2, 3, 4, 1]\n"
       ]
      },
      {
       "metadata": {},
       "output_type": "display_data",
       "png": "[encoded data removed]",
       "text": [
        "<matplotlib.figure.Figure at 0x18fbd470>"
       ]
      }
     ],
     "prompt_number": 35
    },
    {
     "cell_type": "markdown",
     "metadata": {},
     "source": [
      "Asset Replacement with Maintenance"
     ]
    },
    {
     "cell_type": "code",
     "collapsed": false,
     "input": [
      "def rewardM(a, s):\n",
      "    return (1 - (a - s)/5.0) * (50.0 - 2.5 * a - 2.5 * a * a)"
     ],
     "language": "python",
     "metadata": {},
     "outputs": [],
     "prompt_number": 4
    },
    {
     "cell_type": "code",
     "collapsed": false,
     "input": [
      "maxage = 5\n",
      "repcost= 75\n",
      "delta = 0.9\n",
      "actionM = 2\n",
      "mancost = 10"
     ],
     "language": "python",
     "metadata": {},
     "outputs": [],
     "prompt_number": 10
    },
    {
     "cell_type": "code",
     "collapsed": false,
     "input": [
      "# Construct the state space which is two-dimensional\n",
      "from quantecon.cartesian import cartesian\n",
      "S = cartesian([np.arange(1, maxage+1), np.arange(maxage)]).astype(int)\n",
      "\n",
      "state = len(S)\n",
      "print S"
     ],
     "language": "python",
     "metadata": {},
     "outputs": [
      {
       "output_type": "stream",
       "stream": "stdout",
       "text": [
        "[[1 0]\n",
        " [1 1]\n",
        " [1 2]\n",
        " [1 3]\n",
        " [1 4]\n",
        " [2 0]\n",
        " [2 1]\n",
        " [2 2]\n",
        " [2 3]\n",
        " [2 4]\n",
        " [3 0]\n",
        " [3 1]\n",
        " [3 2]\n",
        " [3 3]\n",
        " [3 4]\n",
        " [4 0]\n",
        " [4 1]\n",
        " [4 2]\n",
        " [4 3]\n",
        " [4 4]\n",
        " [5 0]\n",
        " [5 1]\n",
        " [5 2]\n",
        " [5 3]\n",
        " [5 4]]\n"
       ]
      }
     ],
     "prompt_number": 12
    },
    {
     "cell_type": "code",
     "collapsed": false,
     "input": [
      "#to create reward function\n",
      "\n",
      "r = np.zeros((state, actionM + 1), dtype = float)\n",
      "\n",
      "for n,m in product(range(state), range(actionM + 1)):\n",
      "    if m == 0:\n",
      "        r[n,m] = rewardM(0,0) - repcost\n",
      "    elif m == 1:\n",
      "        if S[n][0] < S[n][1]: #age can not be less than service\n",
      "            r[n,m] = -np.inf\n",
      "        else:\n",
      "            if S[n][0] == 5:\n",
      "                r[n,m] = rewardM(0,0) - repcost # have to replace in last period\n",
      "            else:\n",
      "                r[n,m] = rewardM(S[n][0], S[n][1]) \n",
      "    else:\n",
      "        if S[n][0] < S[n][1] + 1:\n",
      "            r[n,m] = -np.inf\n",
      "        else:\n",
      "            r[n,m] = rewardM(S[n][0], S[n][1] + 1) - mancost\n",
      "\n",
      "print r\n",
      "        "
     ],
     "language": "python",
     "metadata": {},
     "outputs": [
      {
       "output_type": "stream",
       "stream": "stdout",
       "text": [
        "[[-25.  36.  35.]\n",
        " [-25.  45. -inf]\n",
        " [-25. -inf -inf]\n",
        " [-25. -inf -inf]\n",
        " [-25. -inf -inf]\n",
        " [-25.  21.  18.]\n",
        " [-25.  28.  25.]\n",
        " [-25.  35. -inf]\n",
        " [-25. -inf -inf]\n",
        " [-25. -inf -inf]\n",
        " [-25.   8.   2.]\n",
        " [-25.  12.   6.]\n",
        " [-25.  16.  10.]\n",
        " [-25.  20. -inf]\n",
        " [-25. -inf -inf]\n",
        " [-25.   0. -10.]\n",
        " [-25.   0. -10.]\n",
        " [-25.   0. -10.]\n",
        " [-25.   0. -10.]\n",
        " [-25.   0. -inf]\n",
        " [-25. -25. -15.]\n",
        " [-25. -25. -20.]\n",
        " [-25. -25. -25.]\n",
        " [-25. -25. -30.]\n",
        " [-25. -25. -35.]]\n"
       ]
      }
     ],
     "prompt_number": 16
    },
    {
     "cell_type": "code",
     "collapsed": false,
     "input": [
      "#define the 3d array Q, first dimension state, second dimension action, third dimension  probability of next state\n",
      "Q = np.zeros((state, actionM + 1, state), dtype = float)\n",
      "\n",
      "for m, n, k in product(range(state), range(actionM + 1), range(state)):\n",
      "    if n == 0:\n",
      "        Q[m, n, 0] = 1.0 \n",
      "    elif n == 1:\n",
      "        if S[m][0] == 5:\n",
      "            Q[m,n,0] = 1.0\n",
      "        else:\n",
      "            Q[m,n,m+5] = 1.0\n",
      "    else:\n",
      "         if S[m][0] == 5:\n",
      "            Q[m,n,0] = 1.0\n",
      "         else:\n",
      "            if S[m][0] == 4:\n",
      "                Q[m,n,m+5] = 1.0 #reach maximum of service\n",
      "            else:\n",
      "                Q[m,n,m+5+1] = 1.0\n",
      "print Q"
     ],
     "language": "python",
     "metadata": {},
     "outputs": [
      {
       "output_type": "stream",
       "stream": "stdout",
       "text": [
        "[[[ 1.  0.  0. ...,  0.  0.  0.]\n",
        "  [ 0.  0.  0. ...,  0.  0.  0.]\n",
        "  [ 0.  0.  0. ...,  0.  0.  0.]]\n",
        "\n",
        " [[ 1.  0.  0. ...,  0.  0.  0.]\n",
        "  [ 0.  0.  0. ...,  0.  0.  0.]\n",
        "  [ 0.  0.  0. ...,  0.  0.  0.]]\n",
        "\n",
        " [[ 1.  0.  0. ...,  0.  0.  0.]\n",
        "  [ 0.  0.  0. ...,  0.  0.  0.]\n",
        "  [ 0.  0.  0. ...,  0.  0.  0.]]\n",
        "\n",
        " ..., \n",
        " [[ 1.  0.  0. ...,  0.  0.  0.]\n",
        "  [ 1.  0.  0. ...,  0.  0.  0.]\n",
        "  [ 1.  0.  0. ...,  0.  0.  0.]]\n",
        "\n",
        " [[ 1.  0.  0. ...,  0.  0.  0.]\n",
        "  [ 1.  0.  0. ...,  0.  0.  0.]\n",
        "  [ 1.  0.  0. ...,  0.  0.  0.]]\n",
        "\n",
        " [[ 1.  0.  0. ...,  0.  0.  0.]\n",
        "  [ 1.  0.  0. ...,  0.  0.  0.]\n",
        "  [ 1.  0.  0. ...,  0.  0.  0.]]]\n"
       ]
      }
     ],
     "prompt_number": 20
    },
    {
     "cell_type": "code",
     "collapsed": false,
     "input": [
      "assetRM = MDP(delta, r, Q)"
     ],
     "language": "python",
     "metadata": {},
     "outputs": [],
     "prompt_number": 22
    },
    {
     "cell_type": "code",
     "collapsed": false,
     "input": [
      "BwM, optimal_decisionM, PM, record_loopM = assetRM.value_iteration()"
     ],
     "language": "python",
     "metadata": {},
     "outputs": [
      {
       "output_type": "stream",
       "stream": "stdout",
       "text": [
        "Loop ends after 153 loops\n"
       ]
      }
     ],
     "prompt_number": 24
    },
    {
     "cell_type": "code",
     "collapsed": false,
     "input": [
      "%matplotlib inline\n",
      "import matplotlib.pyplot as plt"
     ],
     "language": "python",
     "metadata": {},
     "outputs": [],
     "prompt_number": 25
    },
    {
     "cell_type": "code",
     "collapsed": false,
     "input": [
      "mc1 = qe.MarkovChain(PM)"
     ],
     "language": "python",
     "metadata": {},
     "outputs": [],
     "prompt_number": 26
    },
    {
     "cell_type": "code",
     "collapsed": false,
     "input": [
      "sim = mc1.simulate(init = [1]+[0]*24, sample_size=13)"
     ],
     "language": "python",
     "metadata": {},
     "outputs": [],
     "prompt_number": 28
    },
    {
     "cell_type": "code",
     "collapsed": false,
     "input": [
      "print sim"
     ],
     "language": "python",
     "metadata": {},
     "outputs": [
      {
       "output_type": "stream",
       "stream": "stdout",
       "text": [
        "[ 0  6 12 17  0  6 12 17  0  6 12 17  0]\n"
       ]
      }
     ],
     "prompt_number": 29
    },
    {
     "cell_type": "code",
     "collapsed": false,
     "input": [
      "year = []\n",
      "maintenance = []\n",
      "\n",
      "for each in sim:\n",
      "    year.append(S[each][0])\n",
      "    maintenance.append(S[each][1])\n",
      "    "
     ],
     "language": "python",
     "metadata": {},
     "outputs": [],
     "prompt_number": 30
    },
    {
     "cell_type": "code",
     "collapsed": false,
     "input": [
      "plt.plot(year)"
     ],
     "language": "python",
     "metadata": {},
     "outputs": [
      {
       "metadata": {},
       "output_type": "pyout",
       "prompt_number": 31,
       "text": [
        "[<matplotlib.lines.Line2D at 0x1ac244e0>]"
       ]
      },
      {
       "metadata": {},
       "output_type": "display_data",
       "png": "[encoded data removed]",
       "text": [
        "<matplotlib.figure.Figure at 0x1ab27ba8>"
       ]
      }
     ],
     "prompt_number": 31
    },
    {
     "cell_type": "code",
     "collapsed": false,
     "input": [
      "plt.plot(maintenance)\n",
      "plt.axis([0, 12, 0, 2.5])"
     ],
     "language": "python",
     "metadata": {},
     "outputs": [
      {
       "metadata": {},
       "output_type": "pyout",
       "prompt_number": 34,
       "text": [
        "[0, 12, 0, 2.5]"
       ]
      },
      {
       "metadata": {},
       "output_type": "display_data",
       "png": "[encoded data removed]",
       "text": [
        "<matplotlib.figure.Figure at 0x1886dac8>"
       ]
      }
     ],
     "prompt_number": 34
    },
    {
     "cell_type": "markdown",
     "metadata": {},
     "source": [
      "Water Management"
     ]
    },
    {
     "cell_type": "code",
     "collapsed": false,
     "input": [
      "alpha1 = 14\n",
      "beta1 = 0.8\n",
      "alpha2 = 10\n",
      "beta2 = 0.4\n",
      "maxcap = 30\n",
      "rain = [0,1,2,3,4]\n",
      "prob = [0.1,0.2,0.4,0.2,0.1]\n",
      "delta = 0.9"
     ],
     "language": "python",
     "metadata": {},
     "outputs": [],
     "prompt_number": 4
    },
    {
     "cell_type": "code",
     "collapsed": false,
     "input": [
      "def F(x):\n",
      "    return alpha1 * x ** beta1\n",
      "\n",
      "def G(x):\n",
      "    return alpha2 * x ** beta2"
     ],
     "language": "python",
     "metadata": {},
     "outputs": [],
     "prompt_number": 5
    },
    {
     "cell_type": "code",
     "collapsed": false,
     "input": [
      "#to create reward function\n",
      "\n",
      "r = np.zeros((maxcap + 1, maxcap + 1), dtype = float)\n",
      "\n",
      "for n,m in product(range(maxcap + 1), range(maxcap + 1)):\n",
      "    if n < m:\n",
      "        r[n,m] = -np.inf\n",
      "    \n",
      "    else:\n",
      "        r[n,m] = F(m) + G(n - m)\n",
      " \n",
      "print len(r[0])\n",
      "        "
     ],
     "language": "python",
     "metadata": {},
     "outputs": [
      {
       "output_type": "stream",
       "stream": "stdout",
       "text": [
        "31\n"
       ]
      }
     ],
     "prompt_number": 38
    },
    {
     "cell_type": "code",
     "collapsed": false,
     "input": [
      "#define the 3d array Q, first dimension state, second dimension action, third dimension  probability of next state\n",
      "Q = np.zeros((maxcap + 1, maxcap + 1, maxcap + 1), dtype = float)\n",
      "\n",
      "for m, n, k in product(range(maxcap + 1), range(maxcap + 1), range(maxcap + 1)):\n",
      "    if m - n <= 26:\n",
      "        Q[m, n, m - n] = 0.1\n",
      "        Q[m, n, m - n + 1] = 0.2\n",
      "        Q[m, n, m - n + 2] = 0.4\n",
      "        Q[m, n, m - n + 3] = 0.2\n",
      "        Q[m, n, m - n + 4] = 0.1\n",
      "    elif m - n == 27:\n",
      "        Q[m, n, m - n] = 0.1\n",
      "        Q[m, n, m - n + 1] = 0.2\n",
      "        Q[m, n, m - n + 2] = 0.4\n",
      "        Q[m, n, m - n + 3] = 0.3\n",
      "    elif m - n == 28:\n",
      "        Q[m, n, m - n] = 0.1\n",
      "        Q[m, n, m - n + 1] = 0.2\n",
      "        Q[m, n, m - n + 2] = 0.7\n",
      "    elif m - n == 29:\n",
      "        Q[m, n, m - n] = 0.1\n",
      "        Q[m, n, m - n + 1] = 0.9\n",
      "    elif m - n == 30:\n",
      "        Q[m, n, m - n] = 1\n",
      "print Q[0][0]"
     ],
     "language": "python",
     "metadata": {},
     "outputs": [
      {
       "output_type": "stream",
       "stream": "stdout",
       "text": [
        "[ 0.1  0.2  0.4  0.2  0.1  0.   0.   0.   0.   0.   0.   0.   0.   0.   0.\n",
        "  0.   0.   0.   0.   0.   0.   0.   0.   0.   0.   0.   0.   0.   0.   0.\n",
        "  0. ]\n"
       ]
      }
     ],
     "prompt_number": 10
    },
    {
     "cell_type": "code",
     "collapsed": false,
     "input": [
      "assetW = MDP(delta, r, Q)"
     ],
     "language": "python",
     "metadata": {},
     "outputs": [],
     "prompt_number": 39
    },
    {
     "cell_type": "code",
     "collapsed": false,
     "input": [
      "BwW, optimal_decisionW, PW, record_loopW = assetW.value_iteration()"
     ],
     "language": "python",
     "metadata": {},
     "outputs": [
      {
       "output_type": "stream",
       "stream": "stdout",
       "text": [
        "Loop ends after 161 loops\n"
       ]
      }
     ],
     "prompt_number": 40
    },
    {
     "cell_type": "code",
     "collapsed": false,
     "input": [
      "%matplotlib inline\n",
      "import matplotlib.pyplot as plt"
     ],
     "language": "python",
     "metadata": {},
     "outputs": [],
     "prompt_number": 14
    },
    {
     "cell_type": "code",
     "collapsed": false,
     "input": [
      "plt.scatter(range(len(optimal_decisionW)), optimal_decisionW)"
     ],
     "language": "python",
     "metadata": {},
     "outputs": [
      {
       "metadata": {},
       "output_type": "pyout",
       "prompt_number": 41,
       "text": [
        "<matplotlib.collections.PathCollection at 0x197e5b00>"
       ]
      },
      {
       "metadata": {},
       "output_type": "display_data",
       "png": "[encoded data removed]",
       "text": [
        "<matplotlib.figure.Figure at 0x19cea208>"
       ]
      }
     ],
     "prompt_number": 41
    },
    {
     "cell_type": "code",
     "collapsed": false,
     "input": [
      "plt.plot(BwW)"
     ],
     "language": "python",
     "metadata": {},
     "outputs": [
      {
       "metadata": {},
       "output_type": "pyout",
       "prompt_number": 43,
       "text": [
        "[<matplotlib.lines.Line2D at 0x179a3780>]"
       ]
      },
      {
       "metadata": {},
       "output_type": "display_data",
       "png": "[encoded data removed]",
       "text": [
        "<matplotlib.figure.Figure at 0x197ab470>"
       ]
      }
     ],
     "prompt_number": 43
    },
    {
     "cell_type": "code",
     "collapsed": false,
     "input": [
      "mcW = qe.MarkovChain(PW)"
     ],
     "language": "python",
     "metadata": {},
     "outputs": [],
     "prompt_number": 44
    },
    {
     "cell_type": "code",
     "collapsed": false,
     "input": [
      "sim_record = np.zeros([30])\n",
      "\n",
      "\n",
      "for i in range(10000):\n",
      "    sim = mcW.simulate(init = [1]+[0]*30, sample_size = 30)\n",
      "    sim_record += sim\n",
      "\n",
      "print sim_record\n",
      "sim_ave = sim_record/10000\n",
      "print sim_ave\n"
     ],
     "language": "python",
     "metadata": {},
     "outputs": [
      {
       "output_type": "stream",
       "stream": "stdout",
       "text": [
        "[      0.   19806.   36945.   48902.   59440.   69391.   78346.   85972.\n",
        "   92200.   97445.  101551.  105004.  107785.  110112.  112037.  113974.\n",
        "  115311.  116387.  117554.  118406.  119049.  119848.  120674.  121153.\n",
        "  121524.  121989.  122383.  122580.  122904.  123165.]\n",
        "[  0.       1.9806   3.6945   4.8902   5.944    6.9391   7.8346   8.5972\n",
        "   9.22     9.7445  10.1551  10.5004  10.7785  11.0112  11.2037  11.3974\n",
        "  11.5311  11.6387  11.7554  11.8406  11.9049  11.9848  12.0674  12.1153\n",
        "  12.1524  12.1989  12.2383  12.258   12.2904  12.3165]\n"
       ]
      }
     ],
     "prompt_number": 66
    },
    {
     "cell_type": "code",
     "collapsed": false,
     "input": [
      "plt.plot(sim_ave)"
     ],
     "language": "python",
     "metadata": {},
     "outputs": [
      {
       "metadata": {},
       "output_type": "pyout",
       "prompt_number": 67,
       "text": [
        "[<matplotlib.lines.Line2D at 0x199ab048>]"
       ]
      },
      {
       "metadata": {},
       "output_type": "display_data",
       "png": "[encoded data removed]",
       "text": [
        "<matplotlib.figure.Figure at 0x1a115b70>"
       ]
      }
     ],
     "prompt_number": 67
    },
    {
     "cell_type": "code",
     "collapsed": false,
     "input": [
      "stationary = mcW.stationary_distributions"
     ],
     "language": "python",
     "metadata": {},
     "outputs": [],
     "prompt_number": 47
    },
    {
     "cell_type": "code",
     "collapsed": false,
     "input": [
      "def draw_histogram(distribution,\n",
      "                   ax=None, title=None, xlabel=None, ylabel=None, ylim=(0, 1)):\n",
      "    \"\"\"\n",
      "    Plot the given distribution.\n",
      "    \n",
      "    \"\"\"\n",
      "    if ax is None:\n",
      "        fig, ax = plt.subplots()\n",
      "    n = len(distribution)\n",
      "    ax.bar(np.arange(n), distribution, align='center')\n",
      "    ax.set_xlim(-0.5, (n-1)+0.5)\n",
      "    ax.set_ylim(*ylim)\n",
      "    #ax.set_xticks(np.arange(n))\n",
      "   # ax.set_xticklabels(x_axis)\n",
      "    if title:\n",
      "        ax.set_title(title)\n",
      "    if xlabel:\n",
      "        ax.set_xlabel(xlabel)\n",
      "    if ylabel:\n",
      "        ax.set_ylabel(ylabel)\n",
      "    if ax is None:\n",
      "        plt.show()"
     ],
     "language": "python",
     "metadata": {},
     "outputs": [],
     "prompt_number": 48
    },
    {
     "cell_type": "code",
     "collapsed": false,
     "input": [
      "draw_histogram(stationary[0],\n",
      "                   ax=None, title='Water Level', xlabel=None, ylabel=None, ylim=(0, 0.2))"
     ],
     "language": "python",
     "metadata": {},
     "outputs": [
      {
       "metadata": {},
       "output_type": "display_data",
       "png": "[encoded data removed]",
       "text": [
        "<matplotlib.figure.Figure at 0x1a651908>"
       ]
      }
     ],
     "prompt_number": 51
    },
    {
     "cell_type": "code",
     "collapsed": false,
     "input": [],
     "language": "python",
     "metadata": {},
     "outputs": []
    }
   ],
   "metadata": {}
  }
 ]
}