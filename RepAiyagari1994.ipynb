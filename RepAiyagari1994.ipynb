{
 "metadata": {
  "name": "",
  "signature": "sha256:93a087be3eb79f9ba5f76a0483e597d7e74b7ccf101611630042caeab01a358a"
 },
 "nbformat": 3,
 "nbformat_minor": 0,
 "worksheets": [
  {
   "cells": [
    {
     "cell_type": "code",
     "collapsed": false,
     "input": [
      "from scipy.stats import norm\n",
      "import matplotlib.pyplot as plt\n",
      "import numpy as np\n",
      "from itertools import product\n",
      "import quantecon as qe\n",
      "from scipy import optimize"
     ],
     "language": "python",
     "metadata": {},
     "outputs": [],
     "prompt_number": 1
    },
    {
     "cell_type": "code",
     "collapsed": false,
     "input": [
      "np.set_printoptions(precision=4, threshold=None, edgeitems=8, linewidth=150, suppress=True, nanstr=None, infstr=None, formatter=None)"
     ],
     "language": "python",
     "metadata": {},
     "outputs": [],
     "prompt_number": 2
    },
    {
     "cell_type": "heading",
     "level": 1,
     "metadata": {},
     "source": [
      "Define Parameters"
     ]
    },
    {
     "cell_type": "code",
     "collapsed": false,
     "input": [
      "#define vectors of possible parameters\n",
      "sigma_list = [0.2, 0.4]\n",
      "rho_list = [0, 0.3, 0.6, 0.9]\n",
      "mu_list = [1,3,5]\n",
      "\n",
      "beta = 0.96\n",
      "alpha = 0.36\n",
      "delta = 0.08\n",
      "\n",
      "#use 7 discrete points to approximate the continuous AR1 process\n",
      "I = np.array([-np.inf, -5.0/2, -3.0/2, -1.0/2, 1.0/2, 3.0/2, 5.0/2, np.inf]) \n",
      "logL = np.array([-3.0, -2.0, -1.0, 0.0, 1.0, 2.0, 3.0])"
     ],
     "language": "python",
     "metadata": {},
     "outputs": [],
     "prompt_number": 11
    },
    {
     "cell_type": "heading",
     "level": 1,
     "metadata": {},
     "source": [
      "Produce Table 1"
     ]
    },
    {
     "cell_type": "code",
     "collapsed": false,
     "input": [
      "TransMatrix = np.zeros((7,7), dtype = float) #create empty matrix\n",
      "for sigma, rho in product(sigma_list,rho_list):\n",
      "    print (sigma, rho)\n",
      "    for i,j in product(range(7), range(7)):\n",
      "        #define normal variable, loc = mean, scale = sd\n",
      "        x = norm(loc = rho * logL[i] * sigma, scale = sigma * np.sqrt(1-rho ** 2))\n",
      "        #calculate probability for each situation\n",
      "        TransMatrix[i,j] = x.cdf(I[j + 1] * sigma) - x.cdf(I[j] * sigma)\n",
      "    #print TransMatrix\n",
      "    \n",
      "    #for each transition matrix, calculate simulated rho and sigma\n",
      "    \n",
      "    #use MarkovChain module by Oyama sensei to calculate stationary distribution\n",
      "    mc = qe.MarkovChain(TransMatrix)\n",
      "    stationary = mc.stationary_distributions\n",
      "    \n",
      "    #calculate variance and covariance, then calculate simulated sigma and rho\n",
      "    var_y = stationary[0].dot((logL * sigma)**2)\n",
      "    sigma_sim = np.sqrt(var_y)\n",
      "    cov = sum(stationary[0][a] * TransMatrix[a,b] * \\\n",
      "              (logL[a] * sigma) * (logL[b] * sigma) for a,b in product(range(7), range(7)))\n",
      "    rho_sim = cov/var_y\n",
      "    l_state = np.exp(logL * sigma) / stationary[0].dot(np.exp(logL * sigma))\n",
      "    \n",
      "    print (sigma_sim, rho_sim)"
     ],
     "language": "python",
     "metadata": {},
     "outputs": [
      {
       "output_type": "stream",
       "stream": "stdout",
       "text": [
        "(0.2, 0)\n",
        "(0.20784753434408443, -6.5487289653200423e-18)\n",
        "(0.2, 0.3)\n",
        "(0.2085901776520219, 0.29945127665618609)"
       ]
      },
      {
       "output_type": "stream",
       "stream": "stdout",
       "text": [
        "\n",
        "(0.2, 0.6)\n",
        "(0.21202085094502629, 0.59881660907160883)\n",
        "(0.2, 0.9)\n",
        "(0.23415782069314614, 0.90162562382833999)"
       ]
      },
      {
       "output_type": "stream",
       "stream": "stdout",
       "text": [
        "\n",
        "(0.4, 0)\n",
        "(0.41569506868816886, -6.5487289653200423e-18)\n",
        "(0.4, 0.3)\n",
        "(0.41718035530404379, 0.29945127665618609)"
       ]
      },
      {
       "output_type": "stream",
       "stream": "stdout",
       "text": [
        "\n",
        "(0.4, 0.6)\n",
        "(0.42404170189005258, 0.59881660907160883)\n",
        "(0.4, 0.9)\n",
        "(0.46831564138629228, 0.90162562382833999)"
       ]
      },
      {
       "output_type": "stream",
       "stream": "stdout",
       "text": [
        "\n"
       ]
      }
     ],
     "prompt_number": 15
    },
    {
     "cell_type": "heading",
     "level": 1,
     "metadata": {},
     "source": [
      "Define function forms"
     ]
    },
    {
     "cell_type": "code",
     "collapsed": false,
     "input": [
      "#define K(r) function\n",
      "def a_supply(r):\n",
      "    return ((r + delta)/alpha) ** (1/(alpha - 1))\n",
      "\n",
      "#define wage function w(r)\n",
      "def wage(r):\n",
      "    return (1 - alpha) * ((r + delta)/alpha) ** (alpha/(alpha-1))\n",
      "\n",
      "#define utility function\n",
      "def U(c, mu):\n",
      "    if mu != 1:\n",
      "        return (c ** (1-mu) - 1)/(1-mu)\n",
      "    else:\n",
      "        return np.log(c)"
     ],
     "language": "python",
     "metadata": {},
     "outputs": [],
     "prompt_number": 4
    },
    {
     "cell_type": "heading",
     "level": 1,
     "metadata": {},
     "source": [
      "Algorithm to solve dynamic programming problem"
     ]
    },
    {
     "cell_type": "code",
     "collapsed": false,
     "input": [
      "class MDP:\n",
      "    def __init__(self, delta, r, Q):\n",
      "        self.discount = delta\n",
      "        self.utility = np.array(r)\n",
      "        self.transition_matrix = np.array(Q)\n",
      "        \n",
      "        \n",
      "        \n",
      "    def Bellmanop(self, w): \n",
      "        \n",
      "        value = self.utility + self.discount * self.transition_matrix.dot(w)\n",
      "        Bw = value.max(axis = 1)\n",
      "        optimal_decision = value.argmax(axis = 1)\n",
      "\n",
      "        return Bw, optimal_decision\n",
      "    \n",
      "    def value_iteration(self,tol = 10 ** -7, max_iter = 10000):\n",
      "        #w = self.utility[:,0] #initial value\n",
      "        w = np.zeros(self.utility[:,0].shape)\n",
      "\n",
      "        cnt = 0\n",
      "        record_loop = []\n",
      "        for i in range(max_iter):\n",
      "            Bw, optimal_decision = self.Bellmanop(w)\n",
      "            #if cnt < 10:\n",
      "                #print Bw \n",
      "            if max(abs(Bw[i] - w[i]) for i in range(len(w))) < tol:\n",
      "                #print 'Loop ends after %d loops' %cnt\n",
      "                P = np.array(list(self.transition_matrix[x, optimal_decision[x], :] for x in range(len(self.transition_matrix[0,0,:]))))\n",
      "                return Bw, optimal_decision, P, record_loop\n",
      "            else:\n",
      "                record_loop.append(w)\n",
      "                w = Bw\n",
      "\n",
      "            cnt += 1\n",
      "            if cnt == max_iter:\n",
      "                print 'maximum loop'\n",
      "                P = np.array(list(self.transition_matrix[x, optimal_decision[x], :] for x in range(len(self.transition_matrix[0,0,:]))))\n",
      "                return Bw, optimal_decision, P, record_loop"
     ],
     "language": "python",
     "metadata": {},
     "outputs": [],
     "prompt_number": 5
    },
    {
     "cell_type": "heading",
     "level": 1,
     "metadata": {},
     "source": [
      "define capital space and state space"
     ]
    },
    {
     "cell_type": "code",
     "collapsed": false,
     "input": [
      "#define action space\n",
      "capital = np.arange(0, 10, 0.5)\n",
      "print len(capital)\n",
      "\n",
      "state_no = 7 * len(capital) #number of states\n",
      "action_no = len(capital) #number of actions\n",
      "print state_no, action_no"
     ],
     "language": "python",
     "metadata": {},
     "outputs": [
      {
       "output_type": "stream",
       "stream": "stdout",
       "text": [
        "20\n",
        "140 20\n"
       ]
      }
     ],
     "prompt_number": 6
    },
    {
     "cell_type": "heading",
     "level": 1,
     "metadata": {},
     "source": [
      "define Ea(r)"
     ]
    },
    {
     "cell_type": "code",
     "collapsed": false,
     "input": [
      "def Ea(r, mu):   \n",
      "    state = np.zeros((7, action_no), dtype = float)\n",
      "\n",
      "    for m, n in product(range(7), range(action_no)):\n",
      "        state[m, n] = wage(r) * l_state[m]  + capital[n]\n",
      "\n",
      "    state.reshape((state_no))\n",
      "    \n",
      "    #define utility matrix\n",
      "    utility_matrix = np.zeros((state_no, action_no), dtype = float)\n",
      "\n",
      "    for m, n in product(range(state_no), range(action_no)):\n",
      "        if capital[n] <= state.reshape((state_no))[m]:\n",
      "            utility_matrix[m,n] = U(state.reshape((state_no))[m] - capital[n]/(1+r),mu)\n",
      "        else:\n",
      "            utility_matrix[m,n] = -np.inf\n",
      "            \n",
      "    #define 3 dimension transition matrix\n",
      "    transmatrix_3d = np.zeros((state_no, action_no, state_no), dtype = float)\n",
      "\n",
      "    for m, n in product(range(state_no), range(action_no)):\n",
      "        s = m/action_no\n",
      "        for k in range(7):\n",
      "            transmatrix_3d[m, n, k * action_no +n] = TransMatrix[s,k]\n",
      "\n",
      "    dynamic = MDP(beta, utility_matrix, transmatrix_3d)\n",
      "    Bw1, optimal_decision1, P1, record_loop1 = dynamic.value_iteration()\n",
      "    #print P1\n",
      "    \n",
      "    #calculate stationary distribution of P1\n",
      "    mc1 = qe.MarkovChain(P1)\n",
      "    stationary1 = mc1.stationary_distributions\n",
      "    #print stationary1\n",
      "   # print optimal_decision1\n",
      "    Expect_ademand = sum(stationary1[0][i] * capital[optimal_decision1[i]] for i in range(state_no))\n",
      "    \n",
      "    return Expect_ademand"
     ],
     "language": "python",
     "metadata": {},
     "outputs": [],
     "prompt_number": 7
    },
    {
     "cell_type": "heading",
     "level": 1,
     "metadata": {},
     "source": [
      "Define excess demand function, the zero point of this function is optimal interest rate"
     ]
    },
    {
     "cell_type": "code",
     "collapsed": false,
     "input": [
      "def excess(r):\n",
      "    return Ea(r, mu) - a_supply(r)"
     ],
     "language": "python",
     "metadata": {},
     "outputs": [],
     "prompt_number": 9
    },
    {
     "cell_type": "heading",
     "level": 1,
     "metadata": {},
     "source": [
      "Produce Table 2"
     ]
    },
    {
     "cell_type": "code",
     "collapsed": false,
     "input": [
      "TransMatrix = np.zeros((7,7), dtype = float) #create empty matrix\n",
      "for sigma, rho, mu in product(sigma_list,rho_list,mu_list):\n",
      "    print (sigma, rho, mu)\n",
      "    for i,j in product(range(7), range(7)):\n",
      "        #define normal variable, loc = mean, scale = sd\n",
      "        x = norm(loc = rho * logL[i] * sigma, scale = sigma * np.sqrt(1-rho ** 2))\n",
      "        #calculate probability for each situation\n",
      "        TransMatrix[i,j] = x.cdf(I[j + 1] * sigma) - x.cdf(I[j] * sigma)\n",
      "    #print TransMatrix\n",
      "    \n",
      "    #use MarkovChain module by Oyama sensei to calculate stationary distribution\n",
      "    mc = qe.MarkovChain(TransMatrix)\n",
      "    stationary = mc.stationary_distributions\n",
      "    \n",
      "    #normalize L\n",
      "    l_state = np.exp(logL * sigma) / stationary[0].dot(np.exp(logL * sigma))\n",
      "    \n",
      "    #solve zero point\n",
      "    r_star = optimize.bisect(excess, 0.0, 0.1)\n",
      "    print (r_star, delta * alpha /(r_star + delta))"
     ],
     "language": "python",
     "metadata": {},
     "outputs": [
      {
       "output_type": "stream",
       "stream": "stdout",
       "text": [
        "(0.2, 0, 1)\n",
        "(0.041310694871208406, 0.23740693292191606)"
       ]
      },
      {
       "output_type": "stream",
       "stream": "stdout",
       "text": [
        "\n",
        "(0.2, 0, 3)\n",
        "(0.03998741680188687, 0.2400251690354509)"
       ]
      },
      {
       "output_type": "stream",
       "stream": "stdout",
       "text": [
        "\n",
        "(0.2, 0, 5)\n",
        "(0.03872962213572465, 0.24256794119227928)"
       ]
      },
      {
       "output_type": "stream",
       "stream": "stdout",
       "text": [
        "\n",
        "(0.2, 0.3, 1)\n",
        "(0.04175472781134887, 0.23654112261351978)"
       ]
      },
      {
       "output_type": "stream",
       "stream": "stdout",
       "text": [
        "\n",
        "(0.2, 0.3, 3)\n",
        "(0.04021170603155042, 0.23957733361209624)"
       ]
      },
      {
       "output_type": "stream",
       "stream": "stdout",
       "text": [
        "\n",
        "(0.2, 0.3, 5)\n",
        "(0.0390709536157374, 0.24187259046351967)"
       ]
      },
      {
       "output_type": "stream",
       "stream": "stdout",
       "text": [
        "\n",
        "(0.2, 0.6, 1)\n",
        "(0.04205359412517282, 0.23596191661889102)"
       ]
      },
      {
       "output_type": "stream",
       "stream": "stdout",
       "text": [
        "\n",
        "(0.2, 0.6, 3)\n",
        "(0.040908008698170316, 0.23819762073739145)"
       ]
      },
      {
       "output_type": "stream",
       "stream": "stdout",
       "text": [
        "\n",
        "(0.2, 0.6, 5)\n",
        "(0.03830103522122955, 0.24344672847657153)"
       ]
      },
      {
       "output_type": "stream",
       "stream": "stdout",
       "text": [
        "\n",
        "(0.2, 0.9, 1)\n",
        "(0.04180115768176621, 0.23645095455698936)"
       ]
      },
      {
       "output_type": "stream",
       "stream": "stdout",
       "text": [
        "\n",
        "(0.2, 0.9, 3)\n",
        "(0.03931572181681986, 0.24137640506600935)"
       ]
      },
      {
       "output_type": "stream",
       "stream": "stdout",
       "text": [
        "\n",
        "(0.2, 0.9, 5)\n",
        "(0.034917968272202414, 0.25061355010891234)"
       ]
      },
      {
       "output_type": "stream",
       "stream": "stdout",
       "text": [
        "\n",
        "(0.4, 0, 1)\n",
        "(0.03993516314876616, 0.2401297438039653)"
       ]
      },
      {
       "output_type": "stream",
       "stream": "stdout",
       "text": [
        "\n",
        "(0.4, 0, 3)\n",
        "(0.03628681673653775, 0.24766349968328724)"
       ]
      },
      {
       "output_type": "stream",
       "stream": "stdout",
       "text": [
        "\n",
        "(0.4, 0, 5)\n",
        "(0.03345611374461442, 0.25384264496162584)"
       ]
      },
      {
       "output_type": "stream",
       "stream": "stdout",
       "text": [
        "\n",
        "(0.4, 0.3, 1)\n",
        "(0.0403489749536675, 0.23930407393239164)"
       ]
      },
      {
       "output_type": "stream",
       "stream": "stdout",
       "text": [
        "\n",
        "(0.4, 0.3, 3)\n",
        "(0.03721611076834961, 0.24570001351534773)"
       ]
      },
      {
       "output_type": "stream",
       "stream": "stdout",
       "text": [
        "\n",
        "(0.4, 0.3, 5)\n",
        "(0.031800571108033186, 0.2576015463478311)"
       ]
      },
      {
       "output_type": "stream",
       "stream": "stdout",
       "text": [
        "\n",
        "(0.4, 0.6, 1)\n",
        "(0.041416002024925555, 0.23720102391518072)"
       ]
      },
      {
       "output_type": "stream",
       "stream": "stdout",
       "text": [
        "\n",
        "(0.4, 0.6, 3)\n",
        "(0.035476954440673586, 0.2494004118786838)"
       ]
      },
      {
       "output_type": "stream",
       "stream": "stdout",
       "text": [
        "\n",
        "(0.4, 0.6, 5)\n",
        "(0.028985513695079134, 0.26425530351287746)"
       ]
      },
      {
       "output_type": "stream",
       "stream": "stdout",
       "text": [
        "\n",
        "(0.4, 0.9, 1)\n",
        "(0.040371326708555, 0.2392596375524798)"
       ]
      },
      {
       "output_type": "stream",
       "stream": "stdout",
       "text": [
        "\n",
        "(0.4, 0.9, 3)\n",
        "(0.030257932456879646, 0.26120569611862876)"
       ]
      },
      {
       "output_type": "stream",
       "stream": "stdout",
       "text": [
        "\n",
        "(0.4, 0.9, 5)\n",
        "(0.020613456106366362, 0.2862440185888582)"
       ]
      },
      {
       "output_type": "stream",
       "stream": "stdout",
       "text": [
        "\n"
       ]
      }
     ],
     "prompt_number": 17
    },
    {
     "cell_type": "code",
     "collapsed": false,
     "input": [],
     "language": "python",
     "metadata": {},
     "outputs": []
    }
   ],
   "metadata": {}
  }
 ]
}