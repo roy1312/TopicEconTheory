{
 "metadata": {
  "name": "",
  "signature": "sha256:723a938178a05a111408a3d977d5d9adf4f54dc311c4e65b3799bd93969ecccc"
 },
 "nbformat": 3,
 "nbformat_minor": 0,
 "worksheets": [
  {
   "cells": [
    {
     "cell_type": "code",
     "collapsed": false,
     "input": [
      "import numpy as np\n",
      "from itertools import product\n",
      "import quantecon as qe"
     ],
     "language": "python",
     "metadata": {},
     "outputs": [],
     "prompt_number": 1
    },
    {
     "cell_type": "code",
     "collapsed": false,
     "input": [
      "#parameters\n",
      "beta = 0.5\n",
      "delta = 0.9\n",
      "B = 10\n",
      "M = 5"
     ],
     "language": "python",
     "metadata": {},
     "outputs": [],
     "prompt_number": 2
    },
    {
     "cell_type": "code",
     "collapsed": false,
     "input": [
      "#define the utility under each state and action, set utility of unfeasible action to -inf\n",
      "r = np.zeros((B + M + 1, M + 1), dtype = float)\n",
      "\n",
      "for m, n in product(range(B+M+1), range(M+1)):\n",
      "    if n in range(min(m, M) + 1):\n",
      "        r[m, n] = (m - n) ** beta\n",
      "    else:\n",
      "        r[m,n ] = -np.inf\n",
      "np.set_printoptions(precision=4, threshold=None, edgeitems=8, linewidth=150, suppress=None, nanstr=None, infstr=None, formatter=None)\n",
      "print r"
     ],
     "language": "python",
     "metadata": {},
     "outputs": [
      {
       "output_type": "stream",
       "stream": "stdout",
       "text": [
        "[[ 0.        -inf    -inf    -inf    -inf    -inf]\n",
        " [ 1.      0.        -inf    -inf    -inf    -inf]\n",
        " [ 1.4142  1.      0.        -inf    -inf    -inf]\n",
        " [ 1.7321  1.4142  1.      0.        -inf    -inf]\n",
        " [ 2.      1.7321  1.4142  1.      0.        -inf]\n",
        " [ 2.2361  2.      1.7321  1.4142  1.      0.    ]\n",
        " [ 2.4495  2.2361  2.      1.7321  1.4142  1.    ]\n",
        " [ 2.6458  2.4495  2.2361  2.      1.7321  1.4142]\n",
        " [ 2.8284  2.6458  2.4495  2.2361  2.      1.7321]\n",
        " [ 3.      2.8284  2.6458  2.4495  2.2361  2.    ]\n",
        " [ 3.1623  3.      2.8284  2.6458  2.4495  2.2361]\n",
        " [ 3.3166  3.1623  3.      2.8284  2.6458  2.4495]\n",
        " [ 3.4641  3.3166  3.1623  3.      2.8284  2.6458]\n",
        " [ 3.6056  3.4641  3.3166  3.1623  3.      2.8284]\n",
        " [ 3.7417  3.6056  3.4641  3.3166  3.1623  3.    ]\n",
        " [ 3.873   3.7417  3.6056  3.4641  3.3166  3.1623]]\n"
       ]
      }
     ],
     "prompt_number": 3
    },
    {
     "cell_type": "code",
     "collapsed": false,
     "input": [
      "#define the 3d array Q, first dimension state, second dimension action, third dimension  probability of next state\n",
      "Q = np.zeros((B + M + 1,M + 1,B +M +1), dtype = float)\n",
      "\n",
      "for m, n, k in product(range(B+M+1), range(M+1), range(B+M+1)):\n",
      "    if k in range(n, n + B + 1):\n",
      "        Q[m, n, k] = 1.0 / (B + 1)\n",
      "    else:\n",
      "        Q[m, n, k] = 0\n",
      "print Q[0,:,:] #result is  the same for each state"
     ],
     "language": "python",
     "metadata": {},
     "outputs": [
      {
       "output_type": "stream",
       "stream": "stdout",
       "text": [
        "[[ 0.0909  0.0909  0.0909  0.0909  0.0909  0.0909  0.0909  0.0909  0.0909  0.0909  0.0909  0.      0.      0.      0.      0.    ]\n",
        " [ 0.      0.0909  0.0909  0.0909  0.0909  0.0909  0.0909  0.0909  0.0909  0.0909  0.0909  0.0909  0.      0.      0.      0.    ]\n",
        " [ 0.      0.      0.0909  0.0909  0.0909  0.0909  0.0909  0.0909  0.0909  0.0909  0.0909  0.0909  0.0909  0.      0.      0.    ]\n",
        " [ 0.      0.      0.      0.0909  0.0909  0.0909  0.0909  0.0909  0.0909  0.0909  0.0909  0.0909  0.0909  0.0909  0.      0.    ]\n",
        " [ 0.      0.      0.      0.      0.0909  0.0909  0.0909  0.0909  0.0909  0.0909  0.0909  0.0909  0.0909  0.0909  0.0909  0.    ]\n",
        " [ 0.      0.      0.      0.      0.      0.0909  0.0909  0.0909  0.0909  0.0909  0.0909  0.0909  0.0909  0.0909  0.0909  0.0909]]\n"
       ]
      }
     ],
     "prompt_number": 4
    },
    {
     "cell_type": "code",
     "collapsed": false,
     "input": [
      "#implement algorithm in a class\n",
      "class MDP:\n",
      "    def __init__(self, delta, r, Q):\n",
      "        self.discount = delta\n",
      "        self.utility = np.array(r)\n",
      "        self.transition_matrix = np.array(Q)\n",
      "        \n",
      "        \n",
      "        \n",
      "    def Bellmanop(self, w): \n",
      "        \n",
      "        value = self.utility + self.discount * self.transition_matrix.dot(w)\n",
      "        Bw = value.max(axis = 1)\n",
      "        optimal_decision = value.argmax(axis = 1)\n",
      "\n",
      "        return Bw, optimal_decision\n",
      "    \n",
      "    def span_vector(self, w):\n",
      "        middlevalue = (max(w) + min(w))/2 \n",
      "        return np.array([middlevalue] * len(w), dtype = float)\n",
      "    \n",
      "    def value_iteration(self,epsilon = 10 ** -7, max_iter = 10000):\n",
      "        w = self.utility[:,0] #initial value\n",
      "        \n",
      "        #error bound 1 is used\n",
      "        tol = epsilon * (2 * self.discount)/ (1 - self.discount)\n",
      "        cnt = 0\n",
      "        record_loop = []\n",
      "        \n",
      "        for i in range(max_iter):\n",
      "            Bw, optimal_decision = self.Bellmanop(w)\n",
      "            #if cnt < 10:\n",
      "                #print optimal_decision \n",
      "            if max(abs(Bw - w)) < tol:\n",
      "                print 'Loop ends after %d loops' %cnt\n",
      "                P = self.transition_matrix[np.arange(self.utility.shape[0]), optimal_decision]\n",
      "                return Bw, optimal_decision, P, record_loop\n",
      "            else:\n",
      "                record_loop.append(w)\n",
      "                w = Bw\n",
      "\n",
      "            cnt += 1\n",
      "            if cnt == max_iter:\n",
      "                print 'maximum loop'\n",
      "                P = self.transition_matrix[np.arange(self.utility.shape[0]), optimal_decision]\n",
      "                return Bw, optimal_decision, P, record_loop\n",
      "    \n",
      "    def policy_iteration(self, method,T = 10, epsilon = 10 ** -7, max_iter = 10000):\n",
      "        S, G = self.utility.shape[0], self.utility.shape[1]\n",
      "        sigma = [0] * S #initial policy\n",
      "        v_sigma = [0] * S\n",
      "        cnt = 0\n",
      "        \n",
      "        for j in range(max_iter):\n",
      "            cnt += 1\n",
      "            #evaluate the policy\n",
      "            \n",
      "            Q_sigma = self.transition_matrix[np.arange(S), sigma]\n",
      "            r_sigma = self.utility[np.arange(S), sigma]\n",
      "            \n",
      "            if method == 'exact':\n",
      "                coefficient = np.identity(S, dtype=float) - delta * Q_sigma\n",
      "                v_sigma = np.linalg.solve(coefficient, r_sigma)\n",
      "                \n",
      "                #policy improvement\n",
      "                v_sigma1, sigma1 = self.Bellmanop(v_sigma)\n",
      "\n",
      "                #print sigma\n",
      "                #print sigma1\n",
      "                print v_sigma\n",
      "\n",
      "                if (sigma1 == sigma).all():\n",
      "                    print 'Loop ends in %d loops' %cnt\n",
      "                    return sigma1, v_sigma1\n",
      "                else:\n",
      "                    sigma = sigma1\n",
      "                    #v_sigma = v_sigma1\n",
      "                if cnt == max_iter:\n",
      "                    print 'maximum loop'\n",
      "                    return sigma1, v_sigma1\n",
      "            else:\n",
      "                for i in range(T):\n",
      "                    v_sigma = r_sigma + delta * Q_sigma.dot(v_sigma)\n",
      "                    \n",
      "                #policy improvement\n",
      "                v_sigma1, sigma1 = self.Bellmanop(v_sigma)\n",
      "\n",
      "                #print sigma\n",
      "                #print sigma1\n",
      "                print v_sigma\n",
      "                \n",
      "                tol = epsilon * (self.discount)/ (1 - self.discount)\n",
      "                if max(v_sigma1 - v_sigma) - min(v_sigma1 - v_sigma) < tol:\n",
      "                    print 'Loop ends in %d loops' %cnt\n",
      "                    \n",
      "                    return sigma1, v_sigma1 + self.discount/(1 - self.discount) * self.span_vector(v_sigma1 - v_sigma)\n",
      "                else:\n",
      "                    sigma = sigma1\n",
      "                    #v_sigma = v_sigma1\n",
      "                if cnt == max_iter:\n",
      "                    print 'maximum loop'\n",
      "                    return sigma1, v_sigma1 + self.discount/(1 - self.discount) * self.span_vector(v_sigma1 - v_sigma)"
     ],
     "language": "python",
     "metadata": {},
     "outputs": [],
     "prompt_number": 39
    },
    {
     "cell_type": "code",
     "collapsed": false,
     "input": [
      "dynamic = MDP(delta, r, Q)"
     ],
     "language": "python",
     "metadata": {},
     "outputs": [],
     "prompt_number": 40
    },
    {
     "cell_type": "code",
     "collapsed": false,
     "input": [
      "Bw1, optimal_decision1, P1, record_loop1 = dynamic.value_iteration()"
     ],
     "language": "python",
     "metadata": {},
     "outputs": [
      {
       "output_type": "stream",
       "stream": "stdout",
       "text": [
        "Loop ends after 132 loops\n"
       ]
      }
     ],
     "prompt_number": 28
    },
    {
     "cell_type": "code",
     "collapsed": false,
     "input": [
      "print optimal_decision1\n",
      "print Bw1"
     ],
     "language": "python",
     "metadata": {},
     "outputs": [
      {
       "output_type": "stream",
       "stream": "stdout",
       "text": [
        "[0 0 0 0 1 1 1 2 2 3 3 4 5 5 5 5]\n",
        "[ 19.0174  20.0174  20.4316  20.7494  21.0408  21.3087  21.5448  21.7693  21.9827  22.1882  22.3845  22.5781  22.7611  22.9438  23.1153  23.2776]\n"
       ]
      }
     ],
     "prompt_number": 29
    },
    {
     "cell_type": "code",
     "collapsed": false,
     "input": [
      "Sigma1, V_sigma1 = dynamic.policy_iteration('exact')"
     ],
     "language": "python",
     "metadata": {},
     "outputs": [
      {
       "output_type": "stream",
       "stream": "stdout",
       "text": [
        "[ 18.3831  19.3831  19.7974  20.1152  20.3831  20.6192  20.8326  21.0289  21.2116  21.3831  21.5454  21.6998  21.8472  21.9887  22.1248  22.2561]\n",
        "[ 18.9691  19.9691  20.3833  20.7011  20.9911  21.2591  21.4951  21.7086  21.9308  22.1271  22.3097  22.5137  22.6853  22.8766  23.0389  23.1932]\n",
        "[ 19.0173  20.0173  20.4315  20.7493  21.0407  21.3086  21.5447  21.7691  21.9825  22.1881  22.3843  22.5779  22.7606  22.9436  23.1152  23.2774]\n",
        "[ 19.0174  20.0174  20.4316  20.7495  21.0408  21.3087  21.5448  21.7693  21.9827  22.1882  22.3845  22.5781  22.7611  22.9438  23.1153  23.2776]\n",
        "Loop ends in 4 loops\n"
       ]
      }
     ],
     "prompt_number": 30
    },
    {
     "cell_type": "code",
     "collapsed": false,
     "input": [
      "print Sigma1\n",
      "print V_sigma1"
     ],
     "language": "python",
     "metadata": {},
     "outputs": [
      {
       "output_type": "stream",
       "stream": "stdout",
       "text": [
        "[0 0 0 0 1 1 1 2 2 3 3 4 5 5 5 5]\n",
        "[ 19.0174  20.0174  20.4316  20.7495  21.0408  21.3087  21.5448  21.7693  21.9827  22.1882  22.3845  22.5781  22.7611  22.9438  23.1153  23.2776]\n"
       ]
      }
     ],
     "prompt_number": 31
    },
    {
     "cell_type": "code",
     "collapsed": false,
     "input": [
      "Sigma2, V_sigma2 = dynamic.policy_iteration('modified')"
     ],
     "language": "python",
     "metadata": {},
     "outputs": [
      {
       "output_type": "stream",
       "stream": "stdout",
       "text": [
        "[ 11.2611  12.2611  12.6753  12.9932  13.2611  13.4972  13.7106  13.9069  14.0896  14.2611  14.4234  14.5778  14.7252  14.8667  15.0028  15.1341]\n",
        "[ 16.249   17.249   17.6632  17.9811  18.2711  18.539   18.7751  18.9885  19.2108  19.407   19.5897  19.7937  19.9653  20.1565  20.3188  20.4732]\n",
        "[ 18.0489  19.0489  19.4631  19.7809  20.0723  20.3402  20.5763  20.8007  21.0141  21.2197  21.4159  21.6095  21.7922  21.9752  22.1468  22.309 ]\n",
        "[ 18.6797  19.6797  20.0939  20.4117  20.7031  20.971   21.2071  21.4316  21.645   21.8505  22.0468  22.2404  22.4234  22.606   22.7776  22.9399]\n",
        "Loop ends in 4 loops\n"
       ]
      }
     ],
     "prompt_number": 43
    },
    {
     "cell_type": "code",
     "collapsed": false,
     "input": [
      "print Sigma2\n",
      "print V_sigma2"
     ],
     "language": "python",
     "metadata": {},
     "outputs": [
      {
       "output_type": "stream",
       "stream": "stdout",
       "text": [
        "[0 0 0 0 1 1 1 2 2 3 3 4 5 5 5 5]\n",
        "[ 19.0174  20.0174  20.4316  20.7495  21.0408  21.3087  21.5448  21.7693  21.9827  22.1882  22.3845  22.5781  22.7611  22.9438  23.1153  23.2776]\n"
       ]
      }
     ],
     "prompt_number": 44
    },
    {
     "cell_type": "code",
     "collapsed": false,
     "input": [
      "Sigma3, V_sigma3 = dynamic.policy_iteration('modified', T = 1)"
     ],
     "language": "python",
     "metadata": {},
     "outputs": [
      {
       "output_type": "stream",
       "stream": "stdout",
       "text": [
        "[ 0.      1.      1.4142  1.7321  2.      2.2361  2.4495  2.6458  2.8284  3.      3.1623  3.3166  3.4641  3.6056  3.7417  3.873 ]\n",
        "[ 1.8383  2.8383  3.2525  3.5704  3.8417  4.1097  4.3457  4.5592  4.7608  4.957   5.1397  5.319   5.4906  5.655   5.8173  5.9716]\n",
        "[ 3.5356  4.5356  4.9499  5.2677  5.5525  5.8204  6.0565  6.2735  6.4869  6.6835  6.8797  7.0636  7.2463  7.4205  7.5921  7.7544]\n",
        "[ 5.0761  6.0761  6.4904  6.8082  7.0968  7.3648  7.6009  7.8226  8.0361  8.2382  8.4345  8.6247  8.8073  8.9875  9.1591  9.3213]\n",
        "[  6.4673   7.4673   7.8815   8.1993   8.4897   8.7576   8.9937   9.2172   9.4306   9.6349   9.8312  10.0235  10.2062  10.3882  10.5597  10.722 ]\n",
        "[  7.7212   8.7212   9.1354   9.4533   9.7442  10.0122  10.2482  10.4723  10.6857  10.8908  11.0871  11.2802  11.4629  11.6455  11.8171  11.9794]\n",
        "[  8.8504   9.8504  10.2646  10.5825  10.8737  11.1416  11.3777  11.602   11.8154  12.0208  12.217   12.4105  12.5933  12.776   12.9476  13.1099]\n",
        "[  9.867   10.867   11.2812  11.599   11.8903  12.1582  12.3943  12.6187  12.8321  13.0376  13.2339  13.4274  13.6103  13.793   13.9646  14.1269]\n",
        "[ 10.7819  11.7819  12.1961  12.514   12.8053  13.0732  13.3093  13.5338  13.7472  13.9527  14.149   14.3425  14.5255  14.7082  14.8798  15.042 ]\n",
        "[ 11.6055  12.6055  13.0197  13.3375  13.6288  13.8968  14.1328  14.3573  14.5707  14.7763  14.9725  15.1661  15.3491  15.5318  15.7034  15.8656]\n",
        "[ 12.3466  13.3466  13.7609  14.0787  14.37    14.638   14.874   15.0985  15.3119  15.5175  15.7137  15.9073  16.0903  16.273   16.4446  16.6068]\n",
        "[ 13.0137  14.0137  14.4279  14.7458  15.0371  15.305   15.5411  15.7656  15.979   16.1846  16.3808  16.5744  16.7574  16.9401  17.1116  17.2739]\n",
        "[ 13.6141  14.6141  15.0283  15.3461  15.6375  15.9054  16.1415  16.366   16.5794  16.7849  16.9812  17.1748  17.3578  17.5404  17.712   17.8743]\n",
        "[ 14.1544  15.1544  15.5686  15.8865  16.1778  16.4457  16.6818  16.9063  17.1197  17.3253  17.5215  17.7151  17.8981  18.0808  18.2524  18.4146]\n",
        "Loop ends in 14 loops\n"
       ]
      }
     ],
     "prompt_number": 41
    },
    {
     "cell_type": "code",
     "collapsed": false,
     "input": [
      "print Sigma3\n",
      "print V_sigma3"
     ],
     "language": "python",
     "metadata": {},
     "outputs": [
      {
       "output_type": "stream",
       "stream": "stdout",
       "text": [
        "[0 0 0 0 1 1 1 2 2 3 3 4 5 5 5 5]\n",
        "[ 19.0174  20.0174  20.4316  20.7495  21.0408  21.3087  21.5448  21.7693  21.9827  22.1882  22.3845  22.5781  22.7611  22.9438  23.1153  23.2776]\n"
       ]
      }
     ],
     "prompt_number": 42
    },
    {
     "cell_type": "heading",
     "level": 1,
     "metadata": {},
     "source": [
      "Notice that loops required for convergence in T = 1 case is less than value iteration, due to different error bounds imposed "
     ]
    },
    {
     "cell_type": "code",
     "collapsed": false,
     "input": [],
     "language": "python",
     "metadata": {},
     "outputs": []
    }
   ],
   "metadata": {}
  }
 ]
}