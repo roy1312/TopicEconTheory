{
 "metadata": {
  "name": "",
  "signature": "sha256:f7cf78fffbcdb8b7ac85c32ab7e741ec45213615fa329d8673b7ad0b6cdb2663"
 },
 "nbformat": 3,
 "nbformat_minor": 0,
 "worksheets": [
  {
   "cells": [
    {
     "cell_type": "code",
     "collapsed": false,
     "input": [
      "import numpy as np\n",
      "from itertools import product\n",
      "import quantecon as qe"
     ],
     "language": "python",
     "metadata": {},
     "outputs": [],
     "prompt_number": 1
    },
    {
     "cell_type": "code",
     "collapsed": false,
     "input": [
      "#parameters\n",
      "beta = 0.5\n",
      "delta = 0.9\n",
      "B = 10\n",
      "M = 5"
     ],
     "language": "python",
     "metadata": {},
     "outputs": [],
     "prompt_number": 2
    },
    {
     "cell_type": "code",
     "collapsed": false,
     "input": [
      "#define the utility under each state and action, set utility of unfeasible action to -inf\n",
      "r = np.zeros((B + M + 1, M + 1), dtype = float)\n",
      "\n",
      "for m, n in product(range(B+M+1), range(M+1)):\n",
      "    if n in range(min(m, M) + 1):\n",
      "        r[m, n] = (m - n) ** beta\n",
      "    else:\n",
      "        r[m,n ] = -np.inf\n",
      "np.set_printoptions(precision=4, threshold=None, edgeitems=8, linewidth=150, suppress=None, nanstr=None, infstr=None, formatter=None)\n",
      "print r"
     ],
     "language": "python",
     "metadata": {},
     "outputs": [
      {
       "output_type": "stream",
       "stream": "stdout",
       "text": [
        "[[ 0.        -inf    -inf    -inf    -inf    -inf]\n",
        " [ 1.      0.        -inf    -inf    -inf    -inf]\n",
        " [ 1.4142  1.      0.        -inf    -inf    -inf]\n",
        " [ 1.7321  1.4142  1.      0.        -inf    -inf]\n",
        " [ 2.      1.7321  1.4142  1.      0.        -inf]\n",
        " [ 2.2361  2.      1.7321  1.4142  1.      0.    ]\n",
        " [ 2.4495  2.2361  2.      1.7321  1.4142  1.    ]\n",
        " [ 2.6458  2.4495  2.2361  2.      1.7321  1.4142]\n",
        " [ 2.8284  2.6458  2.4495  2.2361  2.      1.7321]\n",
        " [ 3.      2.8284  2.6458  2.4495  2.2361  2.    ]\n",
        " [ 3.1623  3.      2.8284  2.6458  2.4495  2.2361]\n",
        " [ 3.3166  3.1623  3.      2.8284  2.6458  2.4495]\n",
        " [ 3.4641  3.3166  3.1623  3.      2.8284  2.6458]\n",
        " [ 3.6056  3.4641  3.3166  3.1623  3.      2.8284]\n",
        " [ 3.7417  3.6056  3.4641  3.3166  3.1623  3.    ]\n",
        " [ 3.873   3.7417  3.6056  3.4641  3.3166  3.1623]]\n"
       ]
      }
     ],
     "prompt_number": 7
    },
    {
     "cell_type": "code",
     "collapsed": false,
     "input": [
      "#define the 3d array Q, first dimension state, second dimension action, third dimension  probability of next state\n",
      "Q = np.zeros((B + M + 1,M + 1,B +M +1), dtype = float)\n",
      "\n",
      "for m, n, k in product(range(B+M+1), range(M+1), range(B+M+1)):\n",
      "    if k in range(n, n + B + 1):\n",
      "        Q[m, n, k] = 1.0 / (B + 1)\n",
      "    else:\n",
      "        Q[m, n, k] = 0\n",
      "print Q[0,:,:] #result is  the same for each state"
     ],
     "language": "python",
     "metadata": {},
     "outputs": [
      {
       "output_type": "stream",
       "stream": "stdout",
       "text": [
        "[[ 0.0909  0.0909  0.0909  0.0909  0.0909  0.0909  0.0909  0.0909  0.0909  0.0909  0.0909  0.      0.      0.      0.      0.    ]\n",
        " [ 0.      0.0909  0.0909  0.0909  0.0909  0.0909  0.0909  0.0909  0.0909  0.0909  0.0909  0.0909  0.      0.      0.      0.    ]\n",
        " [ 0.      0.      0.0909  0.0909  0.0909  0.0909  0.0909  0.0909  0.0909  0.0909  0.0909  0.0909  0.0909  0.      0.      0.    ]\n",
        " [ 0.      0.      0.      0.0909  0.0909  0.0909  0.0909  0.0909  0.0909  0.0909  0.0909  0.0909  0.0909  0.0909  0.      0.    ]\n",
        " [ 0.      0.      0.      0.      0.0909  0.0909  0.0909  0.0909  0.0909  0.0909  0.0909  0.0909  0.0909  0.0909  0.0909  0.    ]\n",
        " [ 0.      0.      0.      0.      0.      0.0909  0.0909  0.0909  0.0909  0.0909  0.0909  0.0909  0.0909  0.0909  0.0909  0.0909]]\n"
       ]
      }
     ],
     "prompt_number": 9
    },
    {
     "cell_type": "code",
     "collapsed": false,
     "input": [
      "#Implement Bellman operator\n",
      "\n",
      "def Bellmanop(r, delta, w, Q): #Q is a 3D array, S is state space, G is decision space\n",
      "    Q = np.array(Q, dtype = float) #make a copy\n",
      "    r = np.array(r, dtype = float)\n",
      "    \n",
      "    S = range(len(r[:,0])) #state space\n",
      "    G = range(len(r[0,:])) #action space\n",
      "    Bw = []\n",
      "    optimal_decision = []\n",
      "    for m in S:\n",
      "        vals = []\n",
      "        for n in G:\n",
      "            value = r[m, n] + delta * sum (w[z] * Q[m, n, z] for z in S)\n",
      "            vals.append(value)\n",
      "        Bw.append(max(vals))\n",
      "        optimal_decision.append(G[vals.index(max(vals))]) #optimal action has the index i (same in G) that maximize vals[i]\n",
      "    return Bw, optimal_decision\n",
      "\n"
     ],
     "language": "python",
     "metadata": {},
     "outputs": [],
     "prompt_number": 10
    },
    {
     "cell_type": "code",
     "collapsed": false,
     "input": [
      "#Implement value iteration\n",
      "\n",
      "def value_iteration(r, delta, w, Q, tol, max_iter):\n",
      "    \n",
      "    cnt = 0\n",
      "    record_loop = []\n",
      "    for i in range(max_iter):\n",
      "        Bw, optimal_decision = Bellmanop(r, delta, w, Q)\n",
      "        \n",
      "        if max(abs(Bw[i] - w[i]) for i in range(len(w))) < tol:\n",
      "            record_loop.append(w)\n",
      "            print 'Loop ends after %d loops' %cnt\n",
      "            print 'Error was %.8f' %( max(abs(Bw[i] - w[i]) for i in range(len(w))))\n",
      "            print (np.array(w) == np.array(record_loop[cnt])).all()\n",
      "            P = np.array(list(Q[x, optimal_decision[x], :] for x in range(len(Q[0,0,:]))))            \n",
      "            return Bw, optimal_decision, P, record_loop\n",
      "        else:\n",
      "            record_loop.append(w)\n",
      "            w = Bw\n",
      "            \n",
      "        cnt += 1\n",
      "        if cnt == max_iter:\n",
      "            print 'maximum loop'\n",
      "            P = np.array(list(Q[x, optimal_decision[x], :] for x in range(len(Q[0,0,:]))))\n",
      "            return Bw, optimal_decision, P, record_loop"
     ],
     "language": "python",
     "metadata": {},
     "outputs": [],
     "prompt_number": 56
    },
    {
     "cell_type": "code",
     "collapsed": false,
     "input": [
      "w = r[:,0]\n",
      "tol = 10 ** -7\n",
      "max_iter = 10000\n",
      "Bw, optimal_decision, P, record_loop = value_iteration(r, delta, w, Q, tol, max_iter)"
     ],
     "language": "python",
     "metadata": {},
     "outputs": [
      {
       "output_type": "stream",
       "stream": "stdout",
       "text": [
        "Loop ends after 160 loops\n",
        "Error was 0.00000009\n",
        "True\n"
       ]
      }
     ],
     "prompt_number": 57
    },
    {
     "cell_type": "code",
     "collapsed": false,
     "input": [
      "print np.array(Bw)\n",
      "print optimal_decision\n",
      "#print np.array(P)"
     ],
     "language": "python",
     "metadata": {},
     "outputs": [
      {
       "output_type": "stream",
       "stream": "stdout",
       "text": [
        "[ 19.0174  20.0174  20.4316  20.7495  21.0408  21.3087  21.5448  21.7693  21.9827  22.1882  22.3845  22.5781  22.7611  22.9438  23.1153  23.2776]\n",
        "[0, 0, 0, 0, 1, 1, 1, 2, 2, 3, 3, 4, 5, 5, 5, 5]\n"
       ]
      }
     ],
     "prompt_number": 13
    },
    {
     "cell_type": "code",
     "collapsed": false,
     "input": [
      "#implement above algorithm in a class\n",
      "class MDP:\n",
      "    def __init__(self, delta, r, Q):\n",
      "        self.discount = delta\n",
      "        self.utility = np.array(r)\n",
      "        self.transition_matix = np.array(Q)\n",
      "        \n",
      "        \n",
      "        \n",
      "    def Bellmanop(self, w): \n",
      "        #Q is a 3D array, S is state space, G is decision space\n",
      "        S = range(len(r[:,0])) #state space\n",
      "        G = range(len(r[0,:])) #action space\n",
      "        Bw = []\n",
      "        optimal_decision = []\n",
      "        for m in S:\n",
      "            vals = []\n",
      "            for n in G:\n",
      "                value = r[m, n] + delta * sum (w[z] * Q[m,n, z] for z in S)\n",
      "                vals.append(value)\n",
      "            Bw.append(max(vals))\n",
      "            optimal_decision.append(G[vals.index(max(vals))]) #optimal action has the index i (same in G) that maximize vals[i]\n",
      "        return Bw, optimal_decision\n",
      "    \n",
      "    def value_iteration(tol = 10 ** -7, max_iter = 10000):\n",
      "        w = r[:,0]\n",
      "\n",
      "        cnt = 0\n",
      "        record_loop = []\n",
      "        for i in range(max_iter):\n",
      "            Bw, optimal_decision = Bellmanop(r, delta, w, Q)\n",
      "            if max(abs(Bw[i] - w[i]) for i in range(len(w))) < tol:\n",
      "                print 'Loop ends after %d loops' %cnt\n",
      "                P = np.array(list(Q[x, optimal_decision[x], :] for x in range(len(Q[0,0,:]))))\n",
      "                return Bw, optimal_decision, P, record_loop\n",
      "            else:\n",
      "                record_loop.append(w)\n",
      "                w = Bw\n",
      "\n",
      "            cnt += 1\n",
      "            if cnt == max_iter:\n",
      "                print 'maximum loop'\n",
      "                P = np.array(list(Q[x, optimal_decision[x], :] for x in range(len(Q[0,0,:]))))\n",
      "                return Bw, optimal_decision, P, record_loop"
     ],
     "language": "python",
     "metadata": {},
     "outputs": [],
     "prompt_number": 24
    },
    {
     "cell_type": "code",
     "collapsed": false,
     "input": [
      "dynamic = MDP(delta, r, Q)"
     ],
     "language": "python",
     "metadata": {},
     "outputs": [],
     "prompt_number": 25
    },
    {
     "cell_type": "code",
     "collapsed": false,
     "input": [
      "Bw1, optimal_decision1, P1, record_loop1 = dynamic.value_iteration()"
     ],
     "language": "python",
     "metadata": {},
     "outputs": [
      {
       "output_type": "stream",
       "stream": "stdout",
       "text": [
        "maximum loop\n"
       ]
      }
     ],
     "prompt_number": 26
    },
    {
     "cell_type": "heading",
     "level": 1,
     "metadata": {},
     "source": [
      "I think I implement the same code, but previously convergence happens in 160 loops; while this time it does not converge in 10000 loops"
     ]
    },
    {
     "cell_type": "code",
     "collapsed": false,
     "input": [
      "np.set_printoptions(precision=8, threshold=None, edgeitems=8, linewidth=150, suppress=None, nanstr=None, infstr=None, formatter=None)\n",
      "print np.array(Bw1)\n",
      "print np.array(Bw)\n",
      "\n",
      "print np.array(optimal_decision1)\n",
      "print np.array(optimal_decision)\n",
      "\n",
      "print (P == P1).all()"
     ],
     "language": "python",
     "metadata": {},
     "outputs": [
      {
       "output_type": "stream",
       "stream": "stdout",
       "text": [
        "[ 19.01740222  20.01740222  20.43161578  20.74945302  21.04078099  21.30873018  21.54479816  21.76928181  21.98270358  22.18824323  22.3845048\n",
        "  22.57807736  22.76109127  22.94376708  23.11533996  23.27761762]\n",
        "[ 19.0174014   20.0174014   20.43161496  20.7494522   21.04078017  21.30872936  21.54479734  21.76928099  21.98270275  22.18824241  22.38450397\n",
        "  22.57807654  22.76109045  22.94376626  23.11533914  23.2776168 ]\n",
        "[0 0 0 0 1 1 1 2 2 3 3 4 5 5 5 5]\n",
        "[0 0 0 0 1 1 1 2 2 3 3 4 5 5 5 5]\n",
        "True\n"
       ]
      }
     ],
     "prompt_number": 32
    },
    {
     "cell_type": "code",
     "collapsed": false,
     "input": [
      "#compare loop result\n",
      "print len(record_loop)\n",
      "print len(record_loop1)\n",
      "for i in [0, 10, 20, 30, 100, 159]:\n",
      "    print np.array(record_loop[i][0])\n",
      "    print np.array(record_loop1[i][0])\n",
      "print max(abs(record_loop1[161][i] - record_loop1[160][i]) for i in range(16))\n",
      "print tol\n",
      "print max(abs(record_loop1[161][i] - record_loop1[160][i]) for i in range(16)) < tol\n",
      "print max(abs(record_loop[160][i] - Bw[i]) for i in range(16))\n",
      "print max(abs(record_loop[160][i] - Bw[i]) for i in range(16)) < tol"
     ],
     "language": "python",
     "metadata": {},
     "outputs": [
      {
       "output_type": "stream",
       "stream": "stdout",
       "text": [
        "161\n",
        "10000\n",
        "0.0\n",
        "0.0\n",
        "12.3466451034\n",
        "12.3466451034\n",
        "16.6914508099\n",
        "16.6914508099\n",
        "18.2063931085\n",
        "18.2063931085\n",
        "19.0168940559\n",
        "19.0168940559\n",
        "19.0174012023\n",
        "19.0174012023\n",
        "9.13170694616e-08\n",
        "1e-07\n",
        "True\n",
        "9.13170694616e-08\n",
        "True\n"
       ]
      }
     ],
     "prompt_number": 59
    },
    {
     "cell_type": "heading",
     "level": 1,
     "metadata": {},
     "source": [
      "So it seems that despite the stopping condition is satisfied, the loop does not stop"
     ]
    },
    {
     "cell_type": "code",
     "collapsed": false,
     "input": [
      "#Create markov chains with class in quant econ\n",
      "mc0 = qe.MarkovChain(P)"
     ],
     "language": "python",
     "metadata": {},
     "outputs": [],
     "prompt_number": 60
    },
    {
     "cell_type": "code",
     "collapsed": false,
     "input": [
      "stationary = mc0.stationary_distributions\n",
      "print stationary"
     ],
     "language": "python",
     "metadata": {},
     "outputs": [
      {
       "output_type": "stream",
       "stream": "stdout",
       "text": [
        "[[ 0.01732187  0.04121063  0.05773956  0.07426848  0.08095823  0.09090909  0.09090909  0.09090909  0.09090909  0.09090909  0.09090909  0.07358722\n",
        "   0.04969846  0.03316953  0.01664061  0.00995086]]\n"
       ]
      }
     ],
     "prompt_number": 61
    },
    {
     "cell_type": "code",
     "collapsed": false,
     "input": [
      "sim = mc0.simulate(init = [1.0/16] * 16, sample_size=10000)\n",
      "sim_dis = [np.bincount(sim)/10000.0]\n",
      "sim_dis = list(i for i in sim_dis[0])\n",
      "print sim_dis\n",
      "x_axis = range(16)"
     ],
     "language": "python",
     "metadata": {},
     "outputs": [
      {
       "output_type": "stream",
       "stream": "stdout",
       "text": [
        "[0.0189, 0.0424, 0.058799999999999998, 0.073099999999999998, 0.081500000000000003, 0.088599999999999998, 0.091300000000000006, 0.089999999999999997, 0.089599999999999999, 0.091800000000000007, 0.090700000000000003, 0.072800000000000004, 0.044699999999999997, 0.034599999999999999, 0.020799999999999999, 0.0104]\n"
       ]
      }
     ],
     "prompt_number": 97
    },
    {
     "cell_type": "code",
     "collapsed": false,
     "input": [
      "%matplotlib inline\n",
      "import matplotlib.pyplot as plt"
     ],
     "language": "python",
     "metadata": {},
     "outputs": [],
     "prompt_number": 98
    },
    {
     "cell_type": "code",
     "collapsed": false,
     "input": [
      "def draw_histogram(distribution,\n",
      "                   ax=None, title=None, xlabel=None, ylabel=None, ylim=(0, 1)):\n",
      "    \"\"\"\n",
      "    Plot the given distribution.\n",
      "    \n",
      "    \"\"\"\n",
      "    if ax is None:\n",
      "        fig, ax = plt.subplots()\n",
      "    n = len(distribution)\n",
      "    ax.bar(np.arange(n), distribution, align='center')\n",
      "    ax.set_xlim(-0.5, (n-1)+0.5)\n",
      "    ax.set_ylim(*ylim)\n",
      "    ax.set_xticks(np.arange(n))\n",
      "    ax.set_xticklabels(x_axis)\n",
      "    if title:\n",
      "        ax.set_title(title)\n",
      "    if xlabel:\n",
      "        ax.set_xlabel(xlabel)\n",
      "    if ylabel:\n",
      "        ax.set_ylabel(ylabel)\n",
      "    if ax is None:\n",
      "        plt.show()"
     ],
     "language": "python",
     "metadata": {},
     "outputs": [],
     "prompt_number": 99
    },
    {
     "cell_type": "code",
     "collapsed": false,
     "input": [
      "draw_histogram(sim_dis,\n",
      "                   ax=None, title=None, xlabel=None, ylabel=None, ylim=(0, 0.15))"
     ],
     "language": "python",
     "metadata": {},
     "outputs": [
      {
       "metadata": {},
       "output_type": "display_data",
       "png": "[encoded data removed]",
       "text": [
        "<matplotlib.figure.Figure at 0x227c09e8>"
       ]
      }
     ],
     "prompt_number": 100
    },
    {
     "cell_type": "code",
     "collapsed": false,
     "input": [],
     "language": "python",
     "metadata": {},
     "outputs": []
    }
   ],
   "metadata": {}
  }
 ]
}