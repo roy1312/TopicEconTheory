{
 "metadata": {
  "name": "",
  "signature": "sha256:a3d034642d148db125d5e0757844e0d59db05977258e3a99d6b01ff18d2b94da"
 },
 "nbformat": 3,
 "nbformat_minor": 0,
 "worksheets": [
  {
   "cells": [
    {
     "cell_type": "heading",
     "level": 1,
     "metadata": {},
     "source": [
      "Exercises in Jarvis and Shier"
     ]
    },
    {
     "cell_type": "markdown",
     "metadata": {},
     "source": [
      "Reading:\n",
      "J. P. Jarvis and D. R. Shier, \"[Graph-Theoretic Analysis of Finite Markov Chain](http://www.ces.clemson.edu/~shierd/Shier/markov.pdf).\""
     ]
    },
    {
     "cell_type": "code",
     "collapsed": false,
     "input": [
      "from __future__ import division\n",
      "import numpy as np\n",
      "import quantecon as qe"
     ],
     "language": "python",
     "metadata": {},
     "outputs": [],
     "prompt_number": 1
    },
    {
     "cell_type": "markdown",
     "metadata": {},
     "source": [
      "Make sure that you have installed `quantecon` version 0.1.6 (or above):"
     ]
    },
    {
     "cell_type": "code",
     "collapsed": false,
     "input": [
      "qe.__version__"
     ],
     "language": "python",
     "metadata": {},
     "outputs": [
      {
       "metadata": {},
       "output_type": "pyout",
       "prompt_number": 2,
       "text": [
        "'0.1.6'"
       ]
      }
     ],
     "prompt_number": 2
    },
    {
     "cell_type": "heading",
     "level": 2,
     "metadata": {},
     "source": [
      "Exercise 3"
     ]
    },
    {
     "cell_type": "markdown",
     "metadata": {},
     "source": [
      "Consider the Markov chain given by the following stochastic matrix\n",
      "(where the actual values of non-zero probabilities are not important):"
     ]
    },
    {
     "cell_type": "code",
     "collapsed": false,
     "input": [
      "P = np.zeros((6, 6))\n",
      "P[0, 0] = 1\n",
      "P[1, 4] = 1\n",
      "P[2, [2, 3, 4]] = 1/3\n",
      "P[3, [0, 5]] = 1/2\n",
      "P[4, [1, 4]] = 1/2\n",
      "P[5, [0, 3]] = 1/2"
     ],
     "language": "python",
     "metadata": {},
     "outputs": [],
     "prompt_number": 3
    },
    {
     "cell_type": "code",
     "collapsed": false,
     "input": [
      "print P"
     ],
     "language": "python",
     "metadata": {},
     "outputs": []
    },
    {
     "cell_type": "markdown",
     "metadata": {},
     "source": [
      "Create a `MarkovChain` instance:"
     ]
    },
    {
     "cell_type": "code",
     "collapsed": false,
     "input": [
      "mc0 = qe.MarkovChain(P)"
     ],
     "language": "python",
     "metadata": {},
     "outputs": []
    },
    {
     "cell_type": "markdown",
     "metadata": {},
     "source": [
      "We call the states $0, \\ldots, 5$, respectively, instead of $1, \\ldots, 6$."
     ]
    },
    {
     "cell_type": "markdown",
     "metadata": {},
     "source": [
      "(a) Determine the communication classes."
     ]
    },
    {
     "cell_type": "code",
     "collapsed": false,
     "input": [
      "mc0.communication_classes"
     ],
     "language": "python",
     "metadata": {},
     "outputs": []
    },
    {
     "cell_type": "markdown",
     "metadata": {},
     "source": [
      "(b) Classify the states of this Markov chain."
     ]
    },
    {
     "cell_type": "code",
     "collapsed": false,
     "input": [
      "mc0.recurrent_classes"
     ],
     "language": "python",
     "metadata": {},
     "outputs": []
    },
    {
     "cell_type": "markdown",
     "metadata": {},
     "source": [
      "Obtain a list of the recurrent states."
     ]
    },
    {
     "cell_type": "code",
     "collapsed": false,
     "input": [
      "# Write your own code\n"
     ],
     "language": "python",
     "metadata": {},
     "outputs": []
    },
    {
     "cell_type": "markdown",
     "metadata": {},
     "source": [
      "Obtain a list of the transient states."
     ]
    },
    {
     "cell_type": "code",
     "collapsed": false,
     "input": [
      "# Write your own code\n"
     ],
     "language": "python",
     "metadata": {},
     "outputs": []
    },
    {
     "cell_type": "markdown",
     "metadata": {},
     "source": [
      "(c) Does the chain have a unique stationary distribution?"
     ]
    },
    {
     "cell_type": "code",
     "collapsed": false,
     "input": [
      "mc0.num_recurrent_classes"
     ],
     "language": "python",
     "metadata": {},
     "outputs": []
    },
    {
     "cell_type": "markdown",
     "metadata": {},
     "source": [
      "Obtain the stationary distributions:"
     ]
    },
    {
     "cell_type": "code",
     "collapsed": false,
     "input": [
      "vecs = mc0.stationary_distributions\n",
      "print vecs"
     ],
     "language": "python",
     "metadata": {},
     "outputs": []
    },
    {
     "cell_type": "markdown",
     "metadata": {},
     "source": [
      "Verify that the above vectors are indeed stationary distributions."
     ]
    },
    {
     "cell_type": "markdown",
     "metadata": {},
     "source": [
      "Hint: Use [np.dot](http://docs.scipy.org/doc/numpy/reference/generated/numpy.dot.html)."
     ]
    },
    {
     "cell_type": "code",
     "collapsed": false,
     "input": [
      "# Write your own code\n"
     ],
     "language": "python",
     "metadata": {},
     "outputs": []
    },
    {
     "cell_type": "heading",
     "level": 3,
     "metadata": {},
     "source": [
      "Simulation"
     ]
    },
    {
     "cell_type": "markdown",
     "metadata": {},
     "source": [
      "TBD"
     ]
    },
    {
     "cell_type": "heading",
     "level": 2,
     "metadata": {},
     "source": [
      "Exercises 9"
     ]
    },
    {
     "cell_type": "markdown",
     "metadata": {},
     "source": [
      "Consider the Markov chain given by the following stochastic matrix\n",
      "(where the actual values of non-zero probabilities are not important):"
     ]
    },
    {
     "cell_type": "code",
     "collapsed": false,
     "input": [
      "P = np.zeros((10, 10))\n",
      "P[0, 3] = 1\n",
      "P[1, [0, 4]] = 1/2\n",
      "P[2, 6] = 1\n",
      "P[3, [1, 2, 7]] = 1/3\n",
      "P[4, 3] = 1\n",
      "P[5, 4] = 1\n",
      "P[6, 3] = 1\n",
      "P[7, [6, 8]] = 1/2\n",
      "P[8, 9] = 1\n",
      "P[9, 5] = 1"
     ],
     "language": "python",
     "metadata": {},
     "outputs": []
    },
    {
     "cell_type": "code",
     "collapsed": false,
     "input": [
      "np.set_printoptions(precision=3)  # Reduce the number of digits printed\n",
      "print P"
     ],
     "language": "python",
     "metadata": {},
     "outputs": []
    },
    {
     "cell_type": "code",
     "collapsed": false,
     "input": [
      "mc1 = qe.MarkovChain(P)"
     ],
     "language": "python",
     "metadata": {},
     "outputs": []
    },
    {
     "cell_type": "markdown",
     "metadata": {},
     "source": [
      "We call the states $0, \\ldots, 9$, respectively, instead of $1, \\ldots, 10$."
     ]
    },
    {
     "cell_type": "markdown",
     "metadata": {},
     "source": [
      "(a) Check that this Markov chain is irreducible."
     ]
    },
    {
     "cell_type": "code",
     "collapsed": false,
     "input": [
      "mc1.is_irreducible"
     ],
     "language": "python",
     "metadata": {},
     "outputs": []
    },
    {
     "cell_type": "markdown",
     "metadata": {},
     "source": [
      "(c) Determine the period of this Markov chain."
     ]
    },
    {
     "cell_type": "code",
     "collapsed": false,
     "input": [
      "mc1.period"
     ],
     "language": "python",
     "metadata": {},
     "outputs": []
    },
    {
     "cell_type": "markdown",
     "metadata": {},
     "source": [
      "(d) Identify the cyclic classes."
     ]
    },
    {
     "cell_type": "code",
     "collapsed": false,
     "input": [
      "mc1.cyclic_classes"
     ],
     "language": "python",
     "metadata": {},
     "outputs": []
    },
    {
     "cell_type": "heading",
     "level": 2,
     "metadata": {},
     "source": [
      "Exercise 11"
     ]
    },
    {
     "cell_type": "markdown",
     "metadata": {},
     "source": [
      "Let us discuss this exercise using the Markov chain from Exercise 9."
     ]
    },
    {
     "cell_type": "code",
     "collapsed": false,
     "input": [
      "print mc1.P"
     ],
     "language": "python",
     "metadata": {},
     "outputs": []
    },
    {
     "cell_type": "markdown",
     "metadata": {},
     "source": [
      "Denote the period of $P$ by $d$:"
     ]
    },
    {
     "cell_type": "code",
     "collapsed": false,
     "input": [
      "d = mc1.period"
     ],
     "language": "python",
     "metadata": {},
     "outputs": []
    },
    {
     "cell_type": "markdown",
     "metadata": {},
     "source": [
      "Reorder the states so that the transition matrix is in block form:"
     ]
    },
    {
     "cell_type": "code",
     "collapsed": false,
     "input": [
      "permutation = np.concatenate(mc1.cyclic_classes)"
     ],
     "language": "python",
     "metadata": {},
     "outputs": []
    },
    {
     "cell_type": "code",
     "collapsed": false,
     "input": [
      "P = mc1.P[permutation, :][:, permutation]\n",
      "print P"
     ],
     "language": "python",
     "metadata": {},
     "outputs": []
    },
    {
     "cell_type": "markdown",
     "metadata": {},
     "source": [
      "Let us create a new MarkovChain instance:"
     ]
    },
    {
     "cell_type": "code",
     "collapsed": false,
     "input": [
      "mc2 = qe.MarkovChain(P)"
     ],
     "language": "python",
     "metadata": {},
     "outputs": []
    },
    {
     "cell_type": "markdown",
     "metadata": {},
     "source": [
      "Obtain the block components $P_0, \\ldots, P_d$:"
     ]
    },
    {
     "cell_type": "code",
     "collapsed": false,
     "input": [
      "P_blocks = []\n",
      "\n",
      "for i in range(d):\n",
      "    P_blocks.append(mc2.P[mc2.cyclic_classes[i%d], :][:, mc2.cyclic_classes[(i+1)%d]])\n",
      "    print 'P_{0} ='.format(i)\n",
      "    print P_blocks[i]"
     ],
     "language": "python",
     "metadata": {},
     "outputs": []
    },
    {
     "cell_type": "markdown",
     "metadata": {},
     "source": [
      "(b) Show that $P^d$ is block diagonal."
     ]
    },
    {
     "cell_type": "markdown",
     "metadata": {},
     "source": [
      "Hint: You may use [np.linalg.matrix_power](http://docs.scipy.org/doc/numpy/reference/generated/numpy.linalg.matrix_power.html)."
     ]
    },
    {
     "cell_type": "code",
     "collapsed": false,
     "input": [
      "# Write your own code\n"
     ],
     "language": "python",
     "metadata": {},
     "outputs": []
    },
    {
     "cell_type": "markdown",
     "metadata": {},
     "source": [
      "(c) Verify that the $i$th diagonal block of $P^d$ equals\n",
      "$P_i P_{i+1} \\ldots P_{d-1} P_0 \\ldots P_{i-1}$.\n",
      "\n",
      "Store these diagonal blocks in a list called `P_power_d_blocks`."
     ]
    },
    {
     "cell_type": "code",
     "collapsed": false,
     "input": [
      "# Write your own code\n",
      "P_power_d_blocks = []\n",
      "\n"
     ],
     "language": "python",
     "metadata": {},
     "outputs": []
    },
    {
     "cell_type": "markdown",
     "metadata": {},
     "source": [
      "(d) Obtain the stationary distributions each associated with the diagonal blocks of $P^d$.\n",
      "\n",
      "Store them in a list called `pi_s`."
     ]
    },
    {
     "cell_type": "code",
     "collapsed": false,
     "input": [
      "# Write your own code\n",
      "pi_s = []\n",
      "\n"
     ],
     "language": "python",
     "metadata": {},
     "outputs": []
    },
    {
     "cell_type": "markdown",
     "metadata": {},
     "source": [
      "Verify that $\\pi^{i+1} = \\pi^i P_i$."
     ]
    },
    {
     "cell_type": "code",
     "collapsed": false,
     "input": [
      "# Write your own code\n"
     ],
     "language": "python",
     "metadata": {},
     "outputs": []
    },
    {
     "cell_type": "markdown",
     "metadata": {},
     "source": [
      "Obtain the unique stationary distribution $\\pi$ of the original Markov chain."
     ]
    },
    {
     "cell_type": "code",
     "collapsed": false,
     "input": [
      "print mc2.stationary_distributions[0]"
     ],
     "language": "python",
     "metadata": {},
     "outputs": []
    },
    {
     "cell_type": "markdown",
     "metadata": {},
     "source": [
      "Verify that $\\pi = (\\pi^0, \\ldots, \\pi^d) / d$."
     ]
    },
    {
     "cell_type": "code",
     "collapsed": false,
     "input": [
      "# Write your own code\n"
     ],
     "language": "python",
     "metadata": {},
     "outputs": []
    },
    {
     "cell_type": "markdown",
     "metadata": {},
     "source": [
      "(e)"
     ]
    },
    {
     "cell_type": "code",
     "collapsed": false,
     "input": [
      "# Write your answer in a Markdown mode, with providing code if necessary.\n",
      "\n",
      "\n"
     ],
     "language": "python",
     "metadata": {},
     "outputs": []
    },
    {
     "cell_type": "heading",
     "level": 3,
     "metadata": {},
     "source": [
      "Powers of $P$"
     ]
    },
    {
     "cell_type": "markdown",
     "metadata": {},
     "source": [
      "Print $P^1, P^2, \\ldots, P^d$."
     ]
    },
    {
     "cell_type": "code",
     "collapsed": false,
     "input": [
      "# Write your own code\n"
     ],
     "language": "python",
     "metadata": {},
     "outputs": []
    },
    {
     "cell_type": "markdown",
     "metadata": {},
     "source": [
      "Print $P^{2d}$, $P^{4d}$, and $P^{6d}$."
     ]
    },
    {
     "cell_type": "code",
     "collapsed": false,
     "input": [
      "# Write your own code\n"
     ],
     "language": "python",
     "metadata": {},
     "outputs": []
    },
    {
     "cell_type": "heading",
     "level": 3,
     "metadata": {},
     "source": [
      "Simulation"
     ]
    },
    {
     "cell_type": "markdown",
     "metadata": {},
     "source": [
      "TBD"
     ]
    },
    {
     "cell_type": "code",
     "collapsed": false,
     "input": [],
     "language": "python",
     "metadata": {},
     "outputs": []
    }
   ],
   "metadata": {}
  }
 ]
}