{
 "metadata": {
  "name": "",
  "signature": "sha256:2663dba16265388b511d265e759c64c3c1dbcbb3c60c67ee6d052043daf50b81"
 },
 "nbformat": 3,
 "nbformat_minor": 0,
 "worksheets": [
  {
   "cells": [
    {
     "cell_type": "code",
     "collapsed": false,
     "input": [
      "import numpy as np\n",
      "from itertools import product"
     ],
     "language": "python",
     "metadata": {},
     "outputs": [],
     "prompt_number": 9
    },
    {
     "cell_type": "heading",
     "level": 1,
     "metadata": {},
     "source": [
      "Plot Figure 2 and Figure 3 in Rust 1988 given the parameters estimation in Table 9"
     ]
    },
    {
     "cell_type": "code",
     "collapsed": false,
     "input": [
      "class RustMDP:\n",
      "    def __init__(self, delta, r, Q):\n",
      "        self.discount = delta\n",
      "        self.utility = np.array(r)\n",
      "        self.transition_matrix = np.array(Q)\n",
      "        \n",
      "    def contraction(self, ev):\n",
      "        v0 = self.utility[:,0] + self.discount * ev\n",
      "        v1 = self.utility[:,1] + self.discount * ev[0]\n",
      "        \n",
      "        return self.transition_matrix.dot(np.logaddexp(v0,v1))\n",
      "    \n",
      "    def replacementP(self, ev):\n",
      "        v0 = self.utility[:,0] + self.discount * ev\n",
      "        v1 = self.utility[:,1] + self.discount * ev[0]\n",
      "        \n",
      "        return 1.0/(1 + np.exp(v0 - v1))\n",
      "    \n",
      "    def iteration(self, epsilon = 10 ** -7, max_iter = 1000000):\n",
      "        ev = self.utility[:,0] #initial value\n",
      "        \n",
      "        cnt = 0\n",
      "        \n",
      "        for i in range(max_iter):\n",
      "            cnt += 1\n",
      "            ev1 = self.contraction(ev)\n",
      "            if max(abs(ev1 - ev)) < epsilon:\n",
      "                print 'Loop ends after %d loops' %cnt\n",
      "                ReP = self.replacementP(ev1)\n",
      "                return ev1, ReP\n",
      "            else:\n",
      "                ev = ev1\n",
      "        \n",
      "            if cnt == max_iter:\n",
      "                print 'maximum loop'\n",
      "                ReP = self.replacementP(ev1)\n",
      "                return ev1, ReP\n",
      "    \n",
      "        \n",
      "        "
     ],
     "language": "python",
     "metadata": {},
     "outputs": [],
     "prompt_number": 31
    },
    {
     "cell_type": "code",
     "collapsed": false,
     "input": [
      "action = 2 \n",
      "state = 90\n",
      "\n",
      "\n",
      "def c(x, theta1):\n",
      "    return 0.001 * theta1 * x"
     ],
     "language": "python",
     "metadata": {},
     "outputs": [],
     "prompt_number": 8
    },
    {
     "cell_type": "code",
     "collapsed": false,
     "input": [
      "r = np.zeros((state, action))\n",
      "\n",
      "for m,n in product(range(state), range(action)):\n",
      "    if n == 0:\n",
      "        r[m,n] = -c(m,2.2930)\n",
      "    else:\n",
      "        r[m,n] = -10.0750 -  c(0, 2.2930)"
     ],
     "language": "python",
     "metadata": {},
     "outputs": [],
     "prompt_number": 10
    },
    {
     "cell_type": "code",
     "collapsed": false,
     "input": [
      "Q = np.zeros((state,state))\n",
      "\n",
      "for m,n in product(range(state), range(state)):\n",
      "    if m <= 87:\n",
      "        Q[m,m] = 0.3919\n",
      "        Q[m,m+1] = 0.5953\n",
      "        Q[m,m+2] = 1 - 0.3919 - 0.5953\n",
      "    elif m == 88:\n",
      "        Q[m,m] = 0.3919\n",
      "        Q[m,m+1] = 1 - 0.3919\n",
      "    elif m == 89:\n",
      "        Q[m,m] = 1"
     ],
     "language": "python",
     "metadata": {},
     "outputs": [],
     "prompt_number": 17
    },
    {
     "cell_type": "code",
     "collapsed": false,
     "input": [
      "delta = 0.9999"
     ],
     "language": "python",
     "metadata": {},
     "outputs": [],
     "prompt_number": 46
    },
    {
     "cell_type": "code",
     "collapsed": false,
     "input": [
      "case1 = RustMDP(delta, r, Q)"
     ],
     "language": "python",
     "metadata": {},
     "outputs": [],
     "prompt_number": 47
    },
    {
     "cell_type": "code",
     "collapsed": false,
     "input": [
      "ev1, P1 = case1.iteration()"
     ],
     "language": "python",
     "metadata": {},
     "outputs": [
      {
       "output_type": "stream",
       "stream": "stdout",
       "text": [
        "Loop ends after 140649 loops\n"
       ]
      }
     ],
     "prompt_number": 48
    },
    {
     "cell_type": "code",
     "collapsed": false,
     "input": [
      "print ev1"
     ],
     "language": "python",
     "metadata": {},
     "outputs": [
      {
       "output_type": "stream",
       "stream": "stdout",
       "text": [
        "[-1278.60815069 -1278.81195904 -1279.01212426 -1279.2086493  -1279.40153768\n",
        " -1279.59079366 -1279.77642226 -1279.95842938 -1280.13682193 -1280.31160793\n",
        " -1280.4827966  -1280.65039852 -1280.81442574 -1280.9748919  -1281.13181239\n",
        " -1281.28520443 -1281.43508722 -1281.58148207 -1281.72441247 -1281.86390422\n",
        " -1281.99998553 -1282.13268704 -1282.26204191 -1282.38808586 -1282.51085718\n",
        " -1282.63039671 -1282.74674781 -1282.85995636 -1282.97007062 -1283.07714118\n",
        " -1283.18122083 -1283.28236443 -1283.38062875 -1283.47607231 -1283.56875517\n",
        " -1283.6587388  -1283.7460858  -1283.83085975 -1283.91312496 -1283.99294628\n",
        " -1284.07038888 -1284.14551805 -1284.21839898 -1284.28909658 -1284.35767529\n",
        " -1284.42419889 -1284.48873038 -1284.55133174 -1284.61206389 -1284.67098645\n",
        " -1284.72815771 -1284.78363446 -1284.83747192 -1284.88972361 -1284.9404413\n",
        " -1284.9896749  -1285.0374724  -1285.0838798  -1285.128941   -1285.17269776\n",
        " -1285.21518957 -1285.25645364 -1285.29652469 -1285.33543494 -1285.3732139\n",
        " -1285.40988825 -1285.44548162 -1285.48001442 -1285.51350353 -1285.54596201\n",
        " -1285.57739875 -1285.60781797 -1285.63721874 -1285.66559439 -1285.69293169\n",
        " -1285.71921007 -1285.74440055 -1285.76846456 -1285.79135253 -1285.81300227\n",
        " -1285.83333703 -1285.85226337 -1285.86966861 -1285.88541797 -1285.89935141\n",
        " -1285.9112801  -1285.92098253 -1285.92820054 -1285.93263512 -1285.9339443 ]\n"
       ]
      }
     ],
     "prompt_number": 52
    },
    {
     "cell_type": "code",
     "collapsed": false,
     "input": [
      "print P1"
     ],
     "language": "python",
     "metadata": {},
     "outputs": [
      {
       "output_type": "stream",
       "stream": "stdout",
       "text": [
        "[  4.21177151e-05   5.17559688e-05   6.33684663e-05   7.73043946e-05\n",
        "   9.39625449e-05   1.13795896e-04   1.37316155e-04   1.65098143e-04\n",
        "   1.97783921e-04   2.36086517e-04   2.80793119e-04   3.32767596e-04\n",
        "   3.92952189e-04   4.62368236e-04   5.42115799e-04   6.33372058e-04\n",
        "   7.37388385e-04   8.55486017e-04   9.89050278e-04   1.13952335e-03\n",
        "   1.30839564e-03   1.49719574e-03   1.70747927e-03   1.94081649e-03\n",
        "   2.19877920e-03   2.48292687e-03   2.79479242e-03   3.13586788e-03\n",
        "   3.50759023e-03   3.91132766e-03   4.34836653e-03   4.81989935e-03\n",
        "   5.32701391e-03   5.87068380e-03   6.45176048e-03   7.07096699e-03\n",
        "   7.72889328e-03   8.42599333e-03   9.16258395e-03   9.93884504e-03\n",
        "   1.07548216e-02   1.16104267e-02   1.25054462e-02   1.34395439e-02\n",
        "   1.44122680e-02   1.54230578e-02   1.64712510e-02   1.75560916e-02\n",
        "   1.86767369e-02   1.98322657e-02   2.10216848e-02   2.22439362e-02\n",
        "   2.34979033e-02   2.47824160e-02   2.60962558e-02   2.74381592e-02\n",
        "   2.88068204e-02   3.02008927e-02   3.16189887e-02   3.30596792e-02\n",
        "   3.45214898e-02   3.60028969e-02   3.75023208e-02   3.90181172e-02\n",
        "   4.05485656e-02   4.20918558e-02   4.36460706e-02   4.52091651e-02\n",
        "   4.67789417e-02   4.83530204e-02   4.99288034e-02   5.15034336e-02\n",
        "   5.30737452e-02   5.46362059e-02   5.61868496e-02   5.77211973e-02\n",
        "   5.92341657e-02   6.07199619e-02   6.21719620e-02   6.35825737e-02\n",
        "   6.49430818e-02   6.62434765e-02   6.74722670e-02   6.86162849e-02\n",
        "   6.96604828e-02   7.05877417e-02   7.13787041e-02   7.20116574e-02\n",
        "   7.24625014e-02   7.27049744e-02]\n"
       ]
      }
     ],
     "prompt_number": 34
    },
    {
     "cell_type": "code",
     "collapsed": false,
     "input": [
      "r2 = np.zeros((state, action))\n",
      "\n",
      "for m,n in product(range(state), range(action)):\n",
      "    if n == 0:\n",
      "        r2[m,n] = -c(m,71.5133)\n",
      "    else:\n",
      "        r2[m,n] = -7.6358 -  c(0, 71.5133)\n",
      "        \n"
     ],
     "language": "python",
     "metadata": {},
     "outputs": [],
     "prompt_number": 35
    },
    {
     "cell_type": "code",
     "collapsed": false,
     "input": [
      "case2 = RustMDP(0, r2, Q)"
     ],
     "language": "python",
     "metadata": {},
     "outputs": [],
     "prompt_number": 37
    },
    {
     "cell_type": "code",
     "collapsed": false,
     "input": [
      "ev2, P2 = case2.iteration()"
     ],
     "language": "python",
     "metadata": {},
     "outputs": [
      {
       "output_type": "stream",
       "stream": "stdout",
       "text": [
        "Loop ends after 2 loops\n"
       ]
      }
     ],
     "prompt_number": 38
    },
    {
     "cell_type": "code",
     "collapsed": false,
     "input": [
      "print ev2"
     ],
     "language": "python",
     "metadata": {},
     "outputs": [
      {
       "output_type": "stream",
       "stream": "stdout",
       "text": [
        "[-0.04389762 -0.1153735  -0.1868466  -0.25831672 -0.32978365 -0.40124714\n",
        " -0.47270694 -0.54416277 -0.61561435 -0.68706136 -0.75850346 -0.82994029\n",
        " -0.90137145 -0.97279654 -1.04421509 -1.11562663 -1.18703063 -1.25842655\n",
        " -1.32981378 -1.40119168 -1.47255957 -1.5439167  -1.61526227 -1.68659545\n",
        " -1.75791531 -1.82922087 -1.90051108 -1.97178481 -2.04304084 -2.11427787\n",
        " -2.18549451 -2.25668925 -2.32786049 -2.3990065  -2.47012544 -2.54121531\n",
        " -2.61227399 -2.68329921 -2.7542885  -2.82523926 -2.89614866 -2.9670137\n",
        " -3.03783116 -3.10859757 -3.17930923 -3.24996218 -3.32055218 -3.39107468\n",
        " -3.46152483 -3.53189741 -3.60218689 -3.67238731 -3.74249232 -3.81249514\n",
        " -3.88238852 -3.95216474 -4.02181554 -4.09133213 -4.16070514 -4.22992459\n",
        " -4.29897983 -4.36785958 -4.43655181 -4.50504376 -4.57332187 -4.64137179\n",
        " -4.70917829 -4.77672526 -4.84399566 -4.91097152 -4.97763386 -5.04396269\n",
        " -5.10993701 -5.17553471 -5.24073267 -5.30550664 -5.3698313  -5.43368024\n",
        " -5.49702598 -5.55984    -5.62209274 -5.68375368 -5.74479137 -5.8051735\n",
        " -5.86486701 -5.92383815 -5.98205261 -6.03947567 -6.09536314 -6.11741878]\n"
       ]
      }
     ],
     "prompt_number": 39
    },
    {
     "cell_type": "code",
     "collapsed": false,
     "input": [
      "print P2"
     ],
     "language": "python",
     "metadata": {},
     "outputs": [
      {
       "output_type": "stream",
       "stream": "stdout",
       "text": [
        "[ 0.00048262  0.00051838  0.00055679  0.00059804  0.00064234  0.00068993\n",
        "  0.00074104  0.00079593  0.00085488  0.0009182   0.0009862   0.00105923\n",
        "  0.00113766  0.0012219   0.00131236  0.00140951  0.00151385  0.00162589\n",
        "  0.00174621  0.00187542  0.00201417  0.00216316  0.00232315  0.00249494\n",
        "  0.0026794   0.00287745  0.00309011  0.00331843  0.00356355  0.00382672\n",
        "  0.00410923  0.00441252  0.00473808  0.00508754  0.00546263  0.00586521\n",
        "  0.00629727  0.00676095  0.00725852  0.00779242  0.00836526  0.00897982\n",
        "  0.0096391   0.01034628  0.01110476  0.01191817  0.01279039  0.01372556\n",
        "  0.01472808  0.01580266  0.01695429  0.01818829  0.01951032  0.0209264\n",
        "  0.02244291  0.02406662  0.0258047   0.02766474  0.02965478  0.03178329\n",
        "  0.03405921  0.03649197  0.03909145  0.04186807  0.0448327   0.04799673\n",
        "  0.05137206  0.05497105  0.05880654  0.06289184  0.06724067  0.07186714\n",
        "  0.07678574  0.08201122  0.08755858  0.09344298  0.09967964  0.10628375\n",
        "  0.11327036  0.12065423  0.12844972  0.1366706   0.14532988  0.15443966\n",
        "  0.16401088  0.17405318  0.1845746   0.19558143  0.20707795  0.21906622]\n"
       ]
      }
     ],
     "prompt_number": 40
    },
    {
     "cell_type": "code",
     "collapsed": false,
     "input": [
      "%matplotlib inline\n",
      "import matplotlib.pyplot as plt"
     ],
     "language": "python",
     "metadata": {},
     "outputs": [],
     "prompt_number": 41
    },
    {
     "cell_type": "code",
     "collapsed": false,
     "input": [
      "fig, ax = plt.subplots(figsize=(8,5))\n",
      "ax.plot(- case1.utility[:,0] - case1.discount * ev1, label=r'$-c - \\beta \\mathit{EV}$')\n",
      "ax.plot(- case1.discount * ev1, label=r'$- \\beta \\mathit{EV}$')\n",
      "ax.set_title('Estimated Value Functions')\n",
      "ax.set_xlabel('State')\n",
      "ax.set_ylabel(r'Non-normalized value $\\times\\ (-1)$')\n",
      "plt.legend(loc=2)\n",
      "plt.show()"
     ],
     "language": "python",
     "metadata": {},
     "outputs": [
      {
       "metadata": {},
       "output_type": "display_data",
       "png": "[encoded data removed]",
       "text": [
        "<matplotlib.figure.Figure at 0x43246a0>"
       ]
      }
     ],
     "prompt_number": 57
    },
    {
     "cell_type": "code",
     "collapsed": false,
     "input": [
      "fig, ax = plt.subplots(figsize=(8,5))\n",
      "ax.plot(P1, label=r'$\\beta = 0.9999$')\n",
      "ax.plot(P2, label=r'$\\beta = 0$')\n",
      "ax.set_title('Estimated Hazard Functions')\n",
      "ax.set_xlabel('State')\n",
      "ax.set_ylabel(r'Probability of engine replacement')\n",
      "plt.legend(loc=2)\n",
      "plt.show()"
     ],
     "language": "python",
     "metadata": {},
     "outputs": [
      {
       "metadata": {},
       "output_type": "display_data",
       "png": "[encoded data removed]",
       "text": [
        "<matplotlib.figure.Figure at 0x402a7f0>"
       ]
      }
     ],
     "prompt_number": 59
    },
    {
     "cell_type": "code",
     "collapsed": false,
     "input": [],
     "language": "python",
     "metadata": {},
     "outputs": []
    }
   ],
   "metadata": {}
  }
 ]
}