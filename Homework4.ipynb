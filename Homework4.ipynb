{
 "metadata": {
  "name": "",
  "signature": "sha256:1b50a87e1e11caea66f5b857820c2aa04e04b2a2e246791f9d3eb26ef1cdce4f"
 },
 "nbformat": 3,
 "nbformat_minor": 0,
 "worksheets": [
  {
   "cells": [
    {
     "cell_type": "code",
     "collapsed": false,
     "input": [
      "#Try to simulate KMR model\n",
      "import numpy \n",
      "#Define parameters, numerical values follow the example in textbook\n",
      "N = 12\n",
      "p = 1/3 #the payoff of strategy 0 is p; payoff of stratege 1 is 1-p\n",
      "\n"
     ],
     "language": "python",
     "metadata": {},
     "outputs": [],
     "prompt_number": 3
    },
    {
     "cell_type": "code",
     "collapsed": false,
     "input": [
      "#define the best response function\n",
      "def B(x):\n",
      "    if float(x)/N * (1-p) > (N-x)/N * p: #use simple version of expected payoff\n",
      "        return N\n",
      "    elif float(x) * (1-p) == (N-x)/N * p:\n",
      "        return x\n",
      "    else:\n",
      "        return 0"
     ],
     "language": "python",
     "metadata": {},
     "outputs": [],
     "prompt_number": 34
    },
    {
     "cell_type": "code",
     "collapsed": false,
     "input": [
      "#create the sequence of X_t\n",
      "graph = []\n",
      "x_axis = numpy.linspace(0.001, 0.1, num = 10)\n",
      "for epsilon in x_axis:\n",
      "    X = 5 #initial value to start loop\n",
      "    X_list = [X]\n",
      "    for i in range(10000):\n",
      "        X = B(X) + numpy.random.binomial(N -  B(X), epsilon) - numpy.random.binomial(B(X), epsilon)\n",
      "        #print B(X)\n",
      "        X_list.append(X)\n",
      "    graph.append(X_list.count(N))\n",
      "graph = [float(x)/10000 for x in graph]\n",
      "print graph #this is the fraction of time spent on X = N "
     ],
     "language": "python",
     "metadata": {},
     "outputs": [
      {
       "output_type": "stream",
       "stream": "stdout",
       "text": [
        "[0.9878, 0.8648, 0.7517, 0.6593, 0.5755, 0.4972, 0.4334, 0.3761, 0.3263, 0.2796]\n"
       ]
      }
     ],
     "prompt_number": 53
    },
    {
     "cell_type": "code",
     "collapsed": false,
     "input": [
      "%matplotlib inline\n",
      "import matplotlib.pyplot as plt"
     ],
     "language": "python",
     "metadata": {},
     "outputs": [],
     "prompt_number": 45
    },
    {
     "cell_type": "code",
     "collapsed": false,
     "input": [
      "def draw_histogram(distribution,\n",
      "                   ax=None, title=None, xlabel=None, ylabel=None, ylim=(0, 1)):\n",
      "    \"\"\"\n",
      "    Plot the given distribution.\n",
      "    \n",
      "    \"\"\"\n",
      "    if ax is None:\n",
      "        fig, ax = plt.subplots()\n",
      "    n = len(distribution)\n",
      "    ax.bar(numpy.arange(n), distribution, align='center')\n",
      "    ax.set_xlim(-0.5, (n-1)+0.5)\n",
      "    ax.set_ylim(*ylim)\n",
      "    ax.set_xticks(numpy.arange(n))\n",
      "    ax.set_xticklabels(x_axis)\n",
      "    if title:\n",
      "        ax.set_title(title)\n",
      "    if xlabel:\n",
      "        ax.set_xlabel(xlabel)\n",
      "    if ylabel:\n",
      "        ax.set_ylabel(ylabel)\n",
      "    if ax is None:\n",
      "        plt.show()"
     ],
     "language": "python",
     "metadata": {},
     "outputs": [],
     "prompt_number": 77
    },
    {
     "cell_type": "code",
     "collapsed": false,
     "input": [
      "draw_histogram(graph,\n",
      "                   ax=None, title='Fraction of time spent at N', xlabel=None, ylabel=None, ylim=(0, 1.05))"
     ],
     "language": "python",
     "metadata": {},
     "outputs": [
      {
       "metadata": {},
       "output_type": "display_data",
       "png": "[encoded data removed]",
       "text": [
        "<matplotlib.figure.Figure at 0xb00a198>"
       ]
      }
     ],
     "prompt_number": 78
    },
    {
     "cell_type": "code",
     "collapsed": false,
     "input": [],
     "language": "python",
     "metadata": {},
     "outputs": [
      {
       "metadata": {},
       "output_type": "pyout",
       "prompt_number": 69,
       "text": [
        "array([0, 1, 2, 3, 4])"
       ]
      }
     ],
     "prompt_number": 69
    },
    {
     "cell_type": "code",
     "collapsed": false,
     "input": [],
     "language": "python",
     "metadata": {},
     "outputs": []
    }
   ],
   "metadata": {}
  }
 ]
}